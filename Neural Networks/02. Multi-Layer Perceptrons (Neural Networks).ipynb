{
 "cells": [
  {
   "cell_type": "markdown",
   "metadata": {},
   "source": [
    "# The Multi-Layer Perceptron\n",
    "Any neural network is simply a series of perceptrons feeding into one another. The perceptrons are arranged in layers with the outputs of a previous layer being the inputs into the next layer.\n",
    "\n",
    "With this in mind it seems that we did much of the heavy lifting in our [first notebook](./01. The Perceptron.ipynb) concerning the percepton - the single neuron emulating unit that is the building block of a neural network.\n",
    "\n",
    "In this workbook we will consider the simplest case of a fully-connected network. That is a network where each node (percepton) in a given layer is connected to every node in the subsequent layer. This means that the output of a perceptron in the first layer will therefore be an input into each perceptron in the next layer.\n",
    "\n",
    "![Neural Network Diagram](./img/neural-network.png \"A Fully Connected Neural Network\")\n",
    "\n",
    "## Expressiveness of Neural Networks\n",
    "\n",
    "## Training a Neural Network vs Training a Perceptron\n",
    "Similarly to the case of the vanilla perceptron we considered before, the values passed as inputs to each layer (and therefore each perceptron in that layer) will have weights associated with them. These weights will be the variables which we will vary as part of the training process with the ultimate goal of loss minimisation.\n",
    "\n",
    "In contrast to a single perceptron, a multi-layer perceptron must be trained in a more complex way since the weights in the first layer only have an indirect impact on the output albeit through many channels in a fully connected network. This indirect influence is difficult to trace through should the step activation function be kept. The discontinuous function is not differentiable and hence we are unable to perform what's known as backpropagation to calculate the impact of early layer weights on the ultimate output. Backpropagation is the algorithmic way of training a neural network. Errors in the output are traced back through the layers of the network and the weights are updated in turn in order to reduce the error. We will consider this process in detail later. \n",
    "\n",
    "In order to undertake backpropagation the error, or more specifically the model prediction, needs to be differentiable with respect to the weights. In order to achieve this, a smooth (differentiable) activation function is used in place of the perceptron step function.\n",
    "\n",
    "These functions are known as activation functions because they play the role of the activation threshold in the perceptron or the neuron being emulated. Popular choices are the sigmoid function, tanh and the Rectified Linear Unit function (ReLU).\n",
    "\n",
    "We will discuss the mathematics of backpropagation in detail [later](#backpropagation).\n",
    "\n",
    "\n",
    "## Activation Functions\n",
    "Activation functions determine how a perceptron produces its output. Unlike neurons, perceptrons are not limited to binary output and hence may produce any real number as their output. The choice of activation function can therefore shape this output by shaping the relationship between inputs and the output beyond the linear way in which weights enter the equation. This relationship change can be made for computational ease, to match the relationship we are trying to estimate or to aid in training the model.\n",
    "\n",
    "In the case of the neurons in our brains that the perceptrons aim to emulate, activation functions play the role of the activation threshold. In the brain the threshold is placed on a concentration gradient across a membrane which much reach a certain strength before an activation potential will be passed along the neuron. In our case, working in the mathematics of real numbers we need not limit ourselves to binary output. We may consider any output on the real domain. This can be considered the number of action potentials per second should one wish to maintain the biological parallels.\n",
    "\n",
    "### The Sigmoid Function\n",
    "A binary classifier may aim to place a probability on the given input belonging to a given class. This will mean that the outputs must, by way of being probabilities, fall in the unit interval ($o \\in [0,1]$). The sigmoid function will always produce outputs that are between 0 and 1 and can therefore be considered valid probabilities. The functional form of the sigmoid function is given below.\n",
    "\n",
    "$$\\sigma(x)=\\frac{1}{1+e^{-x}}$$\n",
    "\n",
    "<small><center><span style=\"color:gray\">*The Sigmoid Function*</span></center></small>\n",
    "\n",
    "\n",
    "Note that this function is strictly increasing in $x$ and varies from $0$ when $x$ is $-\\infty$ and 1 when $x$ is $\\infty$. It is smooth, defined for all real numbers and differentiable.\n",
    "\n",
    "Infact the differential takes a rather nice form which is one reason for the function's popularity. This will help us when training the model later on.\n",
    "\n",
    "\n",
    "$$\\sigma(x)=\\frac{1}{1+e^{-x}}$$\n",
    "<center><span style=\"color:gray\">*The Sigmoid Function*</span></center>\n",
    "\n",
    "Let's plot this function so that we can see what we're dealing with."
   ]
  },
  {
   "cell_type": "markdown",
   "metadata": {},
   "source": [
    "First we'll import our mathematical toolkit `numpy` and the plotting tools `matplotlib` and `seaborn`."
   ]
  },
  {
   "cell_type": "code",
   "execution_count": 1,
   "metadata": {},
   "outputs": [],
   "source": [
    "import numpy as np\n",
    "import matplotlib.pyplot as plt\n",
    "import seaborn as sns\n",
    "sns.set()"
   ]
  },
  {
   "cell_type": "markdown",
   "metadata": {},
   "source": [
    "Let's define our sigmoid function.\n",
    "\n",
    "Note that we decorate it with `numpy`'s `vectorize` function so that the function can be called on lists and arrays without further modification."
   ]
  },
  {
   "cell_type": "code",
   "execution_count": 2,
   "metadata": {},
   "outputs": [],
   "source": [
    "@np.vectorize\n",
    "def sigmoid(x):\n",
    "    return 1/(1+np.exp(-x))"
   ]
  },
  {
   "cell_type": "markdown",
   "metadata": {},
   "source": [
    "Finally let us generate some points and create a plot."
   ]
  },
  {
   "cell_type": "code",
   "execution_count": 3,
   "metadata": {},
   "outputs": [
    {
     "data": {
      "image/png": "[encoded data removed]",
      "text/plain": [
       "<Figure size 648x324 with 1 Axes>"
      ]
     },
     "metadata": {},
     "output_type": "display_data"
    }
   ],
   "source": [
    "x = np.linspace(-10, 10, 1000)\n",
    "y = sigmoid(x)\n",
    "plt.plot(x,y, figure=plt.figure(figsize=(9,4.5)))\n",
    "plt.axvline(0, color='k', lw=0.5)\n",
    "plt.xlabel('$x$', size=15)\n",
    "plt.ylabel('$\\sigma(x)$', size=15);"
   ]
  },
  {
   "cell_type": "markdown",
   "metadata": {},
   "source": [
    "Let us find the differential by applying the quotient rule. \n",
    "\n",
    "$$\\frac{d\\frac{u}{v}}{dx}=\\frac{v\\frac{du}{dx} - u\\frac{dv}{dx}}{v^2}$$\n",
    "\n",
    "<small><center><span style=\"color:gray\">*The Quotient Rule*</span></center></small>\n",
    "\n",
    "This leads us to the following derivative of the sigmoid function.\n",
    "\n",
    "$$\n",
    "\\begin{align}\n",
    "\\sigma'(x) &=\\frac{e^{-x}}{(1+e^{-x})^2}\\\\&=\\frac{1}{1+e^{-x}}\\cdot \\frac{e^{-x}}{1+e^{-x}}\\\\&=\\frac{1}{1+e^{-x}}\\cdot\\frac{(1+e^{-x})-1}{1+e^{-x}}\\\\&=\\frac{1}{1+e^{-x}}\\cdot\\left(1-\\frac{1}{1+e^{-x}}\\right)\\\\&=\\sigma(x)(1-\\sigma(x))\n",
    "\\end{align}\n",
    "$$"
   ]
  },
  {
   "cell_type": "markdown",
   "metadata": {},
   "source": [
    "## Setting A Problem To Solve\n",
    "\n",
    "To consider how neural networks work we need a set of data to learn from. In this case we will consider a a more complex classification problem wherein the outcome will be determined by some non-linear function of the inputs. This non-linear function is what we aim to learn with our network. First we must consider the relationship we wish to build. Let us consider a function of 5 variables."
   ]
  },
  {
   "cell_type": "code",
   "execution_count": 4,
   "metadata": {},
   "outputs": [],
   "source": [
    "a = 100 * np.random.random(10000)\n",
    "b = 50  * np.random.random(10000)\n",
    "c = 75  * np.random.random(10000)\n",
    "d = 10  * np.random.random(10000)"
   ]
  },
  {
   "cell_type": "markdown",
   "metadata": {},
   "source": [
    "Now let us define a function of these five variables that generates a surface separating positive and negative examples."
   ]
  },
  {
   "cell_type": "code",
   "execution_count": 5,
   "metadata": {},
   "outputs": [],
   "source": [
    "@np.vectorize\n",
    "def hyperplane(a,b,c,d,e):\n",
    "    value = 1\n",
    "    if a > 75:\n",
    "        value *= np.sqrt(a)\n",
    "    if b < 10:\n",
    "        value += b\n",
    "    if c > 60 or d < 5:\n",
    "        value += c * d\n",
    "    return value"
   ]
  },
  {
   "cell_type": "markdown",
   "metadata": {},
   "source": [
    "<a id=\"build\"></a>\n",
    "## Building the Neural Network\n",
    "### The Forward Pass\n",
    "\n",
    "$$ prediction = w_{0,O}+\\sum_{j=1}^{n} w_{j,O}\\cdot \\sigma\\left(w_{0,j}+\\sum_{i=1}^{n} x_i w_{i,j}\\right)$$"
   ]
  },
  {
   "cell_type": "markdown",
   "metadata": {},
   "source": [
    "$$\\sum_{j=1}^n w_{j,O} x_{i} \\cdot \\sigma\\left(w_{0,j}+\\sum_{i=1}^n x_i w_{i,j}\\right)\\left(1 - \\sigma\\left(w_{0,j}+\\sum_{i=1}^n x_i w_{i,j}\\right)\\right)$$"
   ]
  },
  {
   "cell_type": "code",
   "execution_count": 40,
   "metadata": {},
   "outputs": [],
   "source": [
    "def predict(x, weights):\n",
    "    x = np.insert(x, 0, 1)\n",
    "    output = x\n",
    "    for layer in weights[:-1]:\n",
    "        output = sigmoid(np.matmul(output, layer))\n",
    "        output = np.insert(output, 0, 1)\n",
    "    output = np.matmul(output, weights[-1])\n",
    "    return output"
   ]
  },
  {
   "cell_type": "code",
   "execution_count": 34,
   "metadata": {},
   "outputs": [],
   "source": [
    "def get_intermediate_outputs(x, weights, layer):\n",
    "    x = np.insert(x, 0, 1)\n",
    "    output = x\n",
    "    full_network = False\n",
    "    if layer == len(weights):\n",
    "        layer -= 1\n",
    "        full_network = True\n",
    "    for i in range(layer):\n",
    "        output = sigmoid(np.matmul(output, weights[i]))\n",
    "        output = np.insert(output, 0, 1)\n",
    "    if full_network:\n",
    "        output = np.matmul(output, weights[-1])\n",
    "    return output"
   ]
  },
  {
   "cell_type": "code",
   "execution_count": 37,
   "metadata": {},
   "outputs": [],
   "source": [
    "w = [\n",
    "        np.array([[1,1,1,1,1],\n",
    "        [2,2,2,2,2],\n",
    "        [3,3,3,3,3],\n",
    "        [4,4,4,4,4],\n",
    "        [5,5,5,5,5]]),\n",
    "        \n",
    "        np.array([[0.1],\n",
    "        [0.2],\n",
    "        [0.3],\n",
    "        [0.4],\n",
    "        [0.5],\n",
    "        [0.6]])\n",
    "    ]"
   ]
  },
  {
   "cell_type": "code",
   "execution_count": 28,
   "metadata": {},
   "outputs": [],
   "source": [
    "i = np.array([0.003, 0.19, 0.1, 0.39])"
   ]
  },
  {
   "cell_type": "code",
   "execution_count": 41,
   "metadata": {},
   "outputs": [
    {
     "data": {
      "text/plain": [
       "array([2.06131809])"
      ]
     },
     "execution_count": 41,
     "metadata": {},
     "output_type": "execute_result"
    }
   ],
   "source": [
    "predict(i, w)"
   ]
  },
  {
   "cell_type": "markdown",
   "metadata": {},
   "source": [
    "<a id=\"backpropagation\"></a>\n",
    "## Backpropagation"
   ]
  },
  {
   "cell_type": "code",
   "execution_count": 76,
   "metadata": {},
   "outputs": [],
   "source": [
    "def calculate_gradients(inputs, weights):\n",
    "    no_layers = len(weights)\n",
    "    predictions = predict(inputs, weights)\n",
    "    final_layer_derivatives = get_intermediate_outputs(inputs, weights, no_layers - 1)\n",
    "    first_layer_outputs = get_intermediate_outputs(inputs, weights, 1)\n",
    "    previous_layer_derivatives = np.array([])\n",
    "    for i in range(len(inputs) + 1):\n",
    "        for j in range(weights[-2].shape[1]):\n",
    "            if i == 0:\n",
    "                gradient = 1 * weights[-1][j]\n",
    "            else:\n",
    "                gradient = inputs[i-1] * weights[-1][j] * first_layer_outputs[j] * (1 - first_layer_outputs[j])\n",
    "            previous_layer_derivatives = np.append(previous_layer_derivatives, gradient)\n",
    "    previous_layer_derivatives = np.reshape(previous_layer_derivatives, weights[-2].shape)\n",
    "    return [previous_layer_derivatives, final_layer_derivatives]"
   ]
  },
  {
   "cell_type": "code",
   "execution_count": 77,
   "metadata": {},
   "outputs": [
    {
     "data": {
      "text/plain": [
       "[array([[1.00000000e-01, 2.00000000e-01, 3.00000000e-01, 4.00000000e-01,\n",
       "         5.00000000e-01],\n",
       "        [0.00000000e+00, 1.13801292e-05, 1.70701938e-05, 2.27602583e-05,\n",
       "         2.84503229e-05],\n",
       "        [0.00000000e+00, 7.20741514e-04, 1.08111227e-03, 1.44148303e-03,\n",
       "         1.80185379e-03],\n",
       "        [0.00000000e+00, 3.79337639e-04, 5.69006459e-04, 7.58675278e-04,\n",
       "         9.48344098e-04],\n",
       "        [0.00000000e+00, 1.47941679e-03, 2.21912519e-03, 2.95883358e-03,\n",
       "         3.69854198e-03]]),\n",
       " array([1.        , 0.98065905, 0.98065905, 0.98065905, 0.98065905,\n",
       "        0.98065905])]"
      ]
     },
     "execution_count": 77,
     "metadata": {},
     "output_type": "execute_result"
    }
   ],
   "source": [
    "calculate_gradients(i, w)"
   ]
  },
  {
   "cell_type": "code",
   "execution_count": 78,
   "metadata": {},
   "outputs": [],
   "source": [
    "def backprop(inputs, weights, true_values, epochs, eta):\n",
    "    w = np.copy(weights)\n",
    "    for _ in epochs:\n",
    "        for i, t in zip(inputs, true_values):\n",
    "            predictions = predict(i, w)\n",
    "            grads = calculate_gradients(i, w)\n",
    "            update = []\n",
    "            for layer_grad in grads:\n",
    "                update.append(-eta * (t - predictions) * layer_grad)\n",
    "            for l in range(len(w)):\n",
    "                w[l] += update[l]\n",
    "    return w"
   ]
  },
  {
   "cell_type": "code",
   "execution_count": null,
   "metadata": {},
   "outputs": [],
   "source": []
  }
 ],
 "metadata": {
  "kernelspec": {
   "display_name": "Python 3",
   "language": "python",
   "name": "python3"
  },
  "language_info": {
   "codemirror_mode": {
    "name": "ipython",
    "version": 3
   },
   "file_extension": ".py",
   "mimetype": "text/x-python",
   "name": "python",
   "nbconvert_exporter": "python",
   "pygments_lexer": "ipython3",
   "version": "3.6.6"
  }
 },
 "nbformat": 4,
 "nbformat_minor": 2
}
