{
 "cells": [
  {
   "cell_type": "markdown",
   "metadata": {},
   "source": [
    "# The Multi-Layer Perceptron\n",
    "Any neural network is simply a series of perceptrons feeding into one another. The perceptrons are arranged in layers with the outputs of a previous layer being the inputs into the next layer.\n",
    "\n",
    "With this in mind it seems that we did much of the heavy lifting in our [first notebook](./01. The Perceptron.ipynb) concerning the percepton - the single neuron emulating unit that is the building block of a neural network.\n",
    "\n",
    "In this workbook we will consider the simplest case of a fully-connected network. That is a network where each node (percepton) in a given layer is connected to every node in the subsequent layer. This means that the output of a perceptron in the first layer will therefore be an input into each perceptron in the next layer.\n",
    "\n",
    "![Neural Network Diagram](./img/neural-network.png \"A Fully Connected Neural Network\")\n",
    "\n",
    "## Expressiveness of Neural Networks\n",
    "\n",
    "## Training a Neural Network vs Training a Perceptron\n",
    "Similarly to the case of the vanilla perceptron we considered before, the values passed as inputs to each layer (and therefore each perceptron in that layer) will have weights associated with them. These weights will be the variables which we will vary as part of the training process with the ultimate goal of loss minimisation.\n",
    "\n",
    "In contrast to a single perceptron, a multi-layer perceptron must be trained in a more complex way since the weights in the first layer only have an indirect impact on the output albeit through many channels in a fully connected network. This indirect influence is difficult to trace through should the step activation function be kept. The discontinuous function is not differentiable and hence we are unable to perform what's known as backpropagation to calculate the impact of early layer weights on the ultimate output. Backpropagation is the algorithmic way of training a neural network. Errors in the output are traced back through the layers of the network and the weights are updated in turn in order to reduce the error. We will consider this process in detail later. \n",
    "\n",
    "In order to undertake backpropagation the error, or more specifically the model prediction, needs to be differentiable with respect to the weights. In order to achieve this, a smooth (differentiable) activation function is used in place of the perceptron step function.\n",
    "\n",
    "These functions are known as activation functions because they play the role of the activation threshold in the perceptron or the neuron being emulated. Popular choices are the sigmoid function, tanh and the Rectified Linear Unit function (ReLU).\n",
    "\n",
    "We will discuss the mathematics of backpropagation in detail [later](#backpropagation).\n",
    "\n",
    "\n",
    "## Activation Functions\n",
    "Activation functions determine how a perceptron produces its output. Unlike neurons, perceptrons are not limited to binary output and hence may produce any real number as their output. The choice of activation function can therefore shape this output by shaping the relationship between inputs and the output beyond the linear way in which weights enter the equation. This relationship change can be made for computational ease, to match the relationship we are trying to estimate or to aid in training the model.\n",
    "\n",
    "In the case of the neurons in our brains that the perceptrons aim to emulate, activation functions play the role of the activation threshold. In the brain the threshold is placed on a concentration gradient across a membrane which much reach a certain strength before an activation potential will be passed along the neuron. In our case, working in the mathematics of real numbers we need not limit ourselves to binary output. We may consider any output on the real domain. This can be considered the number of action potentials per second should one wish to maintain the biological parallels.\n",
    "\n",
    "### The Sigmoid Function\n",
    "A binary classifier may aim to place a probability on the given input belonging to a given class. This will mean that the outputs must, by way of being probabilities, fall in the unit interval ($o \\in [0,1]$). The sigmoid function will always produce outputs that are between 0 and 1 and can therefore be considered valid probabilities. The functional form of the sigmoid function is given below.\n",
    "\n",
    "$$\\sigma(x)=\\frac{1}{1+e^{-x}}$$\n",
    "\n",
    "<small><center><span style=\"color:gray\">*The Sigmoid Function*</span></center></small>\n",
    "\n",
    "\n",
    "Note that this function is strictly increasing in $x$ and varies from $0$ when $x$ is $-\\infty$ and 1 when $x$ is $\\infty$. It is smooth, defined for all real numbers and differentiable.\n",
    "\n",
    "Infact the differential takes a rather nice form which is one reason for the function's popularity. This will help us when training the model later on.\n",
    "\n",
    "\n",
    "$$\\sigma(x)=\\frac{1}{1+e^{-x}}$$\n",
    "<small><center><span style=\"color:gray\">*The Sigmoid Function*</span></center></small>\n",
    "\n",
    "Let's plot this function so that we can see what we're dealing with."
   ]
  },
  {
   "cell_type": "markdown",
   "metadata": {},
   "source": [
    "First we'll import our mathematical toolkit `numpy` and the plotting tools `matplotlib` and `seaborn`."
   ]
  },
  {
   "cell_type": "code",
   "execution_count": 1,
   "metadata": {},
   "outputs": [],
   "source": [
    "import pandas as pd\n",
    "import numpy as np\n",
    "import matplotlib.pyplot as plt\n",
    "import seaborn as sns\n",
    "sns.set()"
   ]
  },
  {
   "cell_type": "markdown",
   "metadata": {},
   "source": [
    "Let's define our sigmoid function.\n",
    "\n",
    "Note that we decorate it with `numpy`'s `vectorize` function so that the function can be called on lists and arrays without further modification."
   ]
  },
  {
   "cell_type": "code",
   "execution_count": 2,
   "metadata": {},
   "outputs": [],
   "source": [
    "@np.vectorize\n",
    "def sigmoid(x):\n",
    "    return 1/(1+np.exp(-x))"
   ]
  },
  {
   "cell_type": "markdown",
   "metadata": {},
   "source": [
    "Finally let us generate some points and create a plot."
   ]
  },
  {
   "cell_type": "code",
   "execution_count": 3,
   "metadata": {},
   "outputs": [
    {
     "data": {
      "image/png": "[encoded data removed]",
      "text/plain": [
       "<Figure size 648x324 with 1 Axes>"
      ]
     },
     "metadata": {},
     "output_type": "display_data"
    }
   ],
   "source": [
    "x = np.linspace(-10, 10, 1000)\n",
    "y = sigmoid(x)\n",
    "plt.plot(x,y, figure=plt.figure(figsize=(9,4.5)))\n",
    "plt.axvline(0, color='k', lw=0.5)\n",
    "plt.xlabel('$x$', size=15)\n",
    "plt.ylabel('$\\sigma(x)$', size=15);"
   ]
  },
  {
   "cell_type": "markdown",
   "metadata": {},
   "source": [
    "Let us find the differential by applying the quotient rule. \n",
    "\n",
    "$$\\frac{d\\frac{u}{v}}{dx}=\\frac{v\\frac{du}{dx} - u\\frac{dv}{dx}}{v^2}$$\n",
    "\n",
    "<small><center><span style=\"color:gray\">*The Quotient Rule*</span></center></small>\n",
    "\n",
    "This leads us to the following derivative of the sigmoid function.\n",
    "\n",
    "$$\n",
    "\\begin{align}\n",
    "\\sigma'(x) &=\\frac{e^{-x}}{(1+e^{-x})^2}\\\\&=\\frac{1}{1+e^{-x}}\\cdot \\frac{e^{-x}}{1+e^{-x}}\\\\&=\\frac{1}{1+e^{-x}}\\cdot\\frac{(1+e^{-x})-1}{1+e^{-x}}\\\\&=\\frac{1}{1+e^{-x}}\\cdot\\left(1-\\frac{1}{1+e^{-x}}\\right)\\\\&=\\sigma(x)(1-\\sigma(x))\n",
    "\\end{align}\n",
    "$$"
   ]
  },
  {
   "cell_type": "markdown",
   "metadata": {},
   "source": [
    "## Setting A Problem To Solve\n",
    "\n",
    "To consider how neural networks work we need a set of data to learn from. In this case we will consider a a more complex classification problem wherein the outcome will be determined by some non-linear function of the inputs. This non-linear function is what we aim to learn with our network. First we must consider the relationship we wish to build. Let us consider a function of 4 variables. This will enable us to create a network as in the diagram at the top of this notebook (we will ultimately build a network with one hidden layer of 5 units).\n",
    "\n",
    "We let our input variables be random normal values ($a, b, c, d \\sim \\mathcal{N}(0,1)$) so that values are all on a standardised scale. This aids in the training of the network. While this scaling wont necessarily be the same in real data sets data is usually normalised (yielding so-called 'z' values) before training a neural network with it. Predictions that then be rescaled to return a meaningful value on the original scale."
   ]
  },
  {
   "cell_type": "code",
   "execution_count": 4,
   "metadata": {},
   "outputs": [],
   "source": [
    "a = np.random.uniform(size=10000)\n",
    "b = np.random.uniform(size=10000)\n",
    "c = np.random.uniform(size=10000)\n",
    "d = np.random.uniform(size=10000)"
   ]
  },
  {
   "cell_type": "markdown",
   "metadata": {},
   "source": [
    "Now let us define a function of these five variables that generates a surface separating positive and negative examples."
   ]
  },
  {
   "cell_type": "code",
   "execution_count": 5,
   "metadata": {},
   "outputs": [],
   "source": [
    "@np.vectorize\n",
    "def hyperplane(a,b,c,d):\n",
    "    value = sigmoid(0.1*a) + 0.4*sigmoid(b) - 0.2*sigmoid(c) + sigmoid(d)\n",
    "    return value"
   ]
  },
  {
   "cell_type": "markdown",
   "metadata": {},
   "source": [
    "We apply this function to attain the outputs we will later seek to predict. We will refer to these as the true values as they are generated by the process we wish to learn. They are stored in the variable `true_values` accordingly."
   ]
  },
  {
   "cell_type": "code",
   "execution_count": 6,
   "metadata": {},
   "outputs": [],
   "source": [
    "true_values = hyperplane(a,b,c,d)"
   ]
  },
  {
   "cell_type": "markdown",
   "metadata": {},
   "source": [
    "Finally, we put all of our data in one place. We generate a data frame with the inputs having their own columns and the outputs appended on the right. This is similar to how we may expect a real data set from an experiment to look and working with `pandas` should aid transition to any other work you may wish to pursue with neural nets (particularly if using `scikit-learn`."
   ]
  },
  {
   "cell_type": "code",
   "execution_count": 7,
   "metadata": {},
   "outputs": [],
   "source": [
    "dataset = pd.DataFrame(data={\n",
    "    'a':a,\n",
    "    'b':b,\n",
    "    'c':c,\n",
    "    'd':d,\n",
    "    'value': true_values\n",
    "})"
   ]
  },
  {
   "cell_type": "markdown",
   "metadata": {},
   "source": [
    "A quick peek at the data set to finalise the data initialisation and save us rereading this section when we just want to understand the structure of our data set. "
   ]
  },
  {
   "cell_type": "code",
   "execution_count": 8,
   "metadata": {},
   "outputs": [
    {
     "data": {
      "text/html": [
       "<div>\n",
       "<style scoped>\n",
       "    .dataframe tbody tr th:only-of-type {\n",
       "        vertical-align: middle;\n",
       "    }\n",
       "\n",
       "    .dataframe tbody tr th {\n",
       "        vertical-align: top;\n",
       "    }\n",
       "\n",
       "    .dataframe thead th {\n",
       "        text-align: right;\n",
       "    }\n",
       "</style>\n",
       "<table border=\"1\" class=\"dataframe\">\n",
       "  <thead>\n",
       "    <tr style=\"text-align: right;\">\n",
       "      <th></th>\n",
       "      <th>a</th>\n",
       "      <th>b</th>\n",
       "      <th>c</th>\n",
       "      <th>d</th>\n",
       "      <th>value</th>\n",
       "    </tr>\n",
       "  </thead>\n",
       "  <tbody>\n",
       "    <tr>\n",
       "      <th>0</th>\n",
       "      <td>0.915241</td>\n",
       "      <td>0.876958</td>\n",
       "      <td>0.505173</td>\n",
       "      <td>0.072895</td>\n",
       "      <td>1.198823</td>\n",
       "    </tr>\n",
       "    <tr>\n",
       "      <th>1</th>\n",
       "      <td>0.651209</td>\n",
       "      <td>0.839387</td>\n",
       "      <td>0.396698</td>\n",
       "      <td>0.127875</td>\n",
       "      <td>1.207955</td>\n",
       "    </tr>\n",
       "    <tr>\n",
       "      <th>2</th>\n",
       "      <td>0.560437</td>\n",
       "      <td>0.257284</td>\n",
       "      <td>0.839789</td>\n",
       "      <td>0.385774</td>\n",
       "      <td>1.195175</td>\n",
       "    </tr>\n",
       "    <tr>\n",
       "      <th>3</th>\n",
       "      <td>0.680295</td>\n",
       "      <td>0.022301</td>\n",
       "      <td>0.435102</td>\n",
       "      <td>0.412747</td>\n",
       "      <td>1.199559</td>\n",
       "    </tr>\n",
       "    <tr>\n",
       "      <th>4</th>\n",
       "      <td>0.282659</td>\n",
       "      <td>0.047266</td>\n",
       "      <td>0.276772</td>\n",
       "      <td>0.855818</td>\n",
       "      <td>1.299827</td>\n",
       "    </tr>\n",
       "  </tbody>\n",
       "</table>\n",
       "</div>"
      ],
      "text/plain": [
       "          a         b         c         d     value\n",
       "0  0.915241  0.876958  0.505173  0.072895  1.198823\n",
       "1  0.651209  0.839387  0.396698  0.127875  1.207955\n",
       "2  0.560437  0.257284  0.839789  0.385774  1.195175\n",
       "3  0.680295  0.022301  0.435102  0.412747  1.199559\n",
       "4  0.282659  0.047266  0.276772  0.855818  1.299827"
      ]
     },
     "execution_count": 8,
     "metadata": {},
     "output_type": "execute_result"
    }
   ],
   "source": [
    "dataset.head()"
   ]
  },
  {
   "cell_type": "markdown",
   "metadata": {},
   "source": [
    "<a id=\"build\"></a>\n",
    "## Building the Neural Network\n",
    "### The Forward Pass\n",
    "\n",
    "Now that we have a problem we wish to apply our machine learner to we need to build the learner. In the case of the multi-layer perceptrons (relatively vanilla neural networks) we will be using here this is relatively simple.\n",
    "\n",
    "If one is familiar with summation notation and matrix algebra the mathematics and implementation of the forward pass is fairly straight forward. The formula for prediction is given below where $w_{a, b}$ denotes the weight from node $a$ to node $b$, $0$ denotes the bias weight in the respective layer, $Output$ denotes the output node, the $i$'s range over the inputs (of which there are $n_{input}$) and the $j$'s range over the nodes in the hidden layer (of which there are $n_{hidden})$.\n",
    "\n",
    "$$ prediction = w_{0,Output}+\\sum_{j=1}^{n_{hidden}} w_{j,Output}\\cdot \\sigma\\left(w_{0,j}+\\sum_{i=1}^{n_{input}} x_i w_{i,j}\\right)$$\n",
    "\n",
    "One memorable way of phrasing the way each layer in a neural networks works, (to my knowledge) coined by [Siraj Raval](https://www.youtube.com/channel/UCWN3xxRkmTPmbKwht9FuE5A), is as below.\n",
    "\n",
    "> Input times weights, plus a bias, activate!\n",
    "\n",
    "Put mathematically, take the matrix product of your vector of inputs and the matrix of weights for the layer in question (at each layer), add a bias and pass the result through your chosen activation function. The matrix form of the forward pass is wirtten below where $W_k$ denotes the weights matrix for layer $k$ and $b_k$ denotes the bias vector for each layer.\n",
    "\n",
    "$$ prediction = \\boldsymbol{b_2} + \\boldsymbol{W_2}\\left( \\sigma\\left(\\boldsymbol{b_1} + \\boldsymbol{W_1}\\boldsymbol{x}\\right)\\right)$$\n",
    "\n",
    "Note that for non-input layers the inputs are the outputs of the previous layer and that, in practical implementations, adding a bias is usually done by prepending a 1 to the start of your input vector and adding another row (of the biases) to the top of the weights matrix. This then deals with adding the bias through the matrix multiplication. Note that element $(i, j)$ of any given weight matrix (usually denoted $w_{i,j}$) is the weight from input $i$ on the sum in node $j$.\n",
    "\n",
    "Note that in the network built here the sigmoid function is used as an activation function. This limits the outputs of the given layer to be in the unit interval. However, we know from the data generation work above that the outputs will not necessarily be in this interval. Therefore in the final layer, in order not to limit the range of outputs, we will apply no activation at all, consider this like the case of the [plain perceptron](./01. The Perceptron.ipynb). This changes the formula above by taking out the sigmoid transformation ($\\sigma(\\cdot)$), this can also be considered by just changing the activation function in the final layer to an identity function ($f_{identity}(x) = x$)."
   ]
  },
  {
   "cell_type": "markdown",
   "metadata": {},
   "source": [
    "Given the formulae above we can write our prediction function. It takes the input vector $\\boldsymbol{x}$ and a list of weights matrices (one for each layer of the neural network) and conducts the arithmatic above.\n",
    "\n",
    "Initially a $1$ is inserted in the first position of the input vector $\\boldsymbol{x}$ to account for the bias (included here as an extra row of weights in the relevant weight matrices). Then for each intermediate (i.e. 'hidden') layer the matrix multiplication is conducted and the activation function applied to this output. To again account for an additive bias, a $1$ is prepended to the hidden layer output vector. Note that the final layer, having no activation function, is treated separately on the penultimate line of the function written below. The matrix multiplication is carried out as normal yet no activation is applied."
   ]
  },
  {
   "cell_type": "code",
   "execution_count": 9,
   "metadata": {},
   "outputs": [],
   "source": [
    "def predict(x, weights):\n",
    "    x = np.insert(x, 0, 1)\n",
    "    output = x\n",
    "    for layer in weights[:-1]:\n",
    "        output = sigmoid(np.matmul(output, layer))\n",
    "        output = np.insert(output, 0, 1)\n",
    "    output = np.matmul(output, weights[-1])\n",
    "    return output"
   ]
  },
  {
   "cell_type": "markdown",
   "metadata": {},
   "source": [
    "Let us run a quick test example of how this preiction function works to make sure all is working well before we develop our training algorithm."
   ]
  },
  {
   "cell_type": "markdown",
   "metadata": {},
   "source": [
    "#### Example\n",
    "For a working example we need the weights and some input. We will initialise the weights to be small random numbers. These are the weights we will start to learn from later on and hence we do not wish to include any big values as to do so imposes some strong prior view as to the relationship between the inputs and outputs.\n",
    "\n",
    "The weights for each layer will be stored in an $n\\times m$ matrix where $n$ is one greater than the number of nodes in the previous layer (one greater to account for the bias, in inputs can be considered a layer of nodes) and $m$ is the number of nodes in the subsequent layer (this time ignoring any bias 'node').\n",
    "\n",
    "Given that we are replicating the diagram at the top of this notebook which shows a network taking 4 inputs, having a hidden layer of 5 units and generates a single output our weight matrices will be of sizes $5\\times 5$ and $6\\times 1$ for the first and second layers respectively. Entry $i, j$ in each matrix can be considered to be the weight placed on input $i$ in the calculation at node $j$ for the respective layer. Note that when $i = 0$ (if using a 0 based indexing system) the weight can be considered a scalar bias."
   ]
  },
  {
   "cell_type": "code",
   "execution_count": 10,
   "metadata": {},
   "outputs": [],
   "source": [
    "w = [\n",
    "        np.random.normal(0, 0.5, size=(5,5)),\n",
    "        np.random.normal(0, 0.5, size=(6,1))\n",
    "    ]"
   ]
  },
  {
   "cell_type": "markdown",
   "metadata": {},
   "source": [
    "Since the relationship we are learning has been developed hear for pedagogic reasons it it not necessarily meaningful with the focus being on the mathematics of modelling. Therefore we can just choose some fairly random number from the ranges included in the inputs."
   ]
  },
  {
   "cell_type": "code",
   "execution_count": 11,
   "metadata": {},
   "outputs": [],
   "source": [
    "i = np.array([0.003, 0.19, 0.1, 0.39])"
   ]
  },
  {
   "cell_type": "markdown",
   "metadata": {},
   "source": [
    "Finally we can run our prediction with our chosen inputs and the random weights. Note that the output is a 1-vector (a numpy array) rather than a raw scalar value since it is the result of matrix multiplication. This means that the network can be generalised to have multiple outputs."
   ]
  },
  {
   "cell_type": "code",
   "execution_count": 12,
   "metadata": {},
   "outputs": [
    {
     "data": {
      "text/plain": [
       "array([-0.3672341])"
      ]
     },
     "execution_count": 12,
     "metadata": {},
     "output_type": "execute_result"
    }
   ],
   "source": [
    "predict(i, w)"
   ]
  },
  {
   "cell_type": "markdown",
   "metadata": {},
   "source": [
    "Should you wish to consolidate your understanding of how this network works the list of weight matrices is given below so that you may trace/check the calculation yourself outside of Python."
   ]
  },
  {
   "cell_type": "code",
   "execution_count": 13,
   "metadata": {},
   "outputs": [
    {
     "data": {
      "text/plain": [
       "[array([[-0.35488876, -0.23659869, -0.33867314,  0.36387468,  0.32611655],\n",
       "        [-0.26065506, -1.05467748,  0.18559385,  0.25842844, -0.40552946],\n",
       "        [-0.08049153, -0.62635345,  0.52101412, -0.08069795, -0.83872539],\n",
       "        [-0.72111432, -0.29579596, -0.27537176,  0.66396855,  0.20578943],\n",
       "        [ 0.52081198, -0.68363231,  0.01350068, -0.11467529,  0.26864561]]),\n",
       " array([[ 0.03878111],\n",
       "        [ 0.70394749],\n",
       "        [-0.84874312],\n",
       "        [ 0.50273702],\n",
       "        [-0.8350314 ],\n",
       "        [-0.26286314]])]"
      ]
     },
     "execution_count": 13,
     "metadata": {},
     "output_type": "execute_result"
    }
   ],
   "source": [
    "w"
   ]
  },
  {
   "cell_type": "markdown",
   "metadata": {},
   "source": [
    "<a id=\"backpropagation\"></a>\n",
    "## Backpropagation\n",
    "Now comes the more complicated part. Training the model.\n",
    "\n",
    "The [forward pass](#build) presented above is also known as forward propagation as the calculation at each stage is propagated forwards into the next  calculation. For the model to learn it must learn from the errors made. These errors are the differences between the predictions and the known values. Therefore the errors are clearly measured at the output of the network. The errors being noted at the end of the calculation but the parameters we wish to vary to reduce the errors (namely the weights in each layer) occuring earlier in the calculation requires that the errors and information from later layers be passed back to earlier layers in order for learning to occur. This led to the backpropagation algorithm whereby the errors and information from any later layers are used when training a given layer.\n",
    "\n",
    "Before we lay out the mathematics of the training algorithm let us first consider the intuition of the process we are about to undertake. We will define a loss function that is proportional to the prediction error (but may contain other penalties or weight certain errors more heavily than others). This loss function will be defined over the possible values for the weights in our model. The aim is therefore to minimise the loss function (thereby reducing prediction errors) by varying the weights within our neural network.\n",
    "\n",
    "The approach we will take is gradient descent. Let me provide the intuition as follows. Imagine that there are only two weights over which you wish to minimise the loss. The loss is therefore defined at all possible pairings of weight values. Given that the weights are continuous variables the space of weights and the related losses can be plotted in three-dimensional space with the 'floor' being coordinates in $w_1, w_2$ space and the hight at any point being given by $loss = L(w_1, w_2)$. We csn imagine this to be like a mountainous landscape. The weights are initialised at a random point $(w_1^{start}, w_2^{start})$ from which we wish to get to the optimum $(w_1^*,w_2^*)$ which will be the lowest point on the surface. Mathematically we are looking to find $\\min_{(w_1,w_2)}{L(w_1, w_2)}$. We will get there step by step by moving 'downhill'. This is done by calculating the gradient at our current position and finding the steepest way down and then taking a step of given size in that direction before then reevaluating the gradient and then continuing on. This descent will bring us down until we reach a minimum or we run out of steps/time.\n",
    "\n",
    "Note that in the above we end at _a minimum_ not the minimum. The problem of arriving at a local minimum is one that is greatly explored in all optimisation including in machine learning. This alongside problems around overfitting, choosing the step size and many more elements of designing and implementing an optimisation algorithm will be left for a later day. Today we will focus on the mathematics of our chosen (standard) optimisation algorithm. The key to this is finding the gradient we wish to take a step in the direction of. This gradient (of the loss function) is given by the vector below.\n",
    "\n",
    "$$\\nabla L(\\boldsymbol{w}) = \\left[\\frac{\\partial L}{\\partial w_{0,1}}, \\frac{\\partial L}{\\partial w_{0,2}}, \\cdots, \\frac{\\partial L}{\\partial w_{n_{hidden},Output}}\\right]$$\n",
    "\n",
    "Now we may define this loss function and find the derivatives. Once we have this information we will be able to train our multi-layer perceptron."
   ]
  },
  {
   "cell_type": "markdown",
   "metadata": {},
   "source": [
    "We will use a simple standard loss function of minmising the sum of squared residuals. We will scale this loss to make some of the later mathematics easier. We define the loss across all datapoints $d$ in the available data set $D$ as below.\n",
    "\n",
    "$$Loss = \\frac{1}{2} \\sum_{d\\in D} \\left(\\hat{y}_d - y^{\\ true}_d\\right)^2$$\n",
    "\n",
    "Where the model prediction is given by $\\hat{y}$ and the target value is given by $y^{\\ true}$.\n",
    "\n",
    "Now that we have the loss function along with a [formula](#build) for the prediction as a function of the weights we may take derivatives to build up the gradient vector.\n",
    "\n",
    "Firstly let us remind ourselves of the forward pass formula.\n",
    "\n",
    "$$ prediction = w_{0,Output}+\\sum_{j=1}^{n_{hidden}} w_{j,Output}\\cdot \\sigma\\left(w_{0,j}+\\sum_{i=1}^{n_{input}} x_i w_{i,j}\\right)$$\n",
    "\n",
    "At a high level the derivative of the loss function with respect to some weight $w_{i,j}$ will be given by the following.\n",
    "\n",
    "$$\\frac{\\partial Loss}{\\partial w_{i,j}} = \\sum_{d\\in D} \\left(\\frac{\\partial \\hat{y}_d}{\\partial w_{i,j}} \\left(\\hat{y}_d - y^{\\ true}_d\\right)\\right)$$\n",
    "\n",
    "Note that the $\\frac{1}{2}$ we scaled the loss by cancels with the power of $2$ now that we take the first derivative, this saves us from juggling constants without losing anything of consequence.\n",
    "\n",
    "The non-trivial part of this derivative is the term in the derivative of $\\hat{y}$. Let's focus on this term and rebuild the full derivative once we have all the parts.\n",
    "\n",
    "First considering the simpler case of an element of the final layer (i.e. this derivative for weights between the hidden layer and the output).\n",
    "\n",
    "$$\\frac{\\partial\\ \\hat{y}}{\\partial w_{j, Output}} = net_j$$\n",
    "\n",
    "Where $net_j$ denotes the value of the $j^{th}$ unit in the hidden layer and $w_{j, Ouput}$ denotes the weight between the $j^{th}$ node of the hidden layer and the output node. To clarify:\n",
    "\n",
    "$$net_j = \\sigma\\left(w_{0,j}+\\sum_{i=1}^n x_i w_{i,j}\\right)$$\n",
    "\n",
    "The more complex derivatives are those concerning the weights earlier in the tree. This makes sense as they do not affect the prediction so directly as they influence the values in the hidden layer which then affect the output through another layer of calculation. Therefore these weights have a more in direct impact and this generates a more complex derivative for the prediction depending on more terms. This derivative is given below.\n",
    "\n",
    "$$\\frac{\\partial\\ \\hat{y}}{\\partial w_{i,j}}=\\sum_{j=0}^{n_{hidden}} \\left(w_{j,Output}\\cdot \\frac{\\partial net_j}{\\partial w_{i,j}}\\right)$$\n",
    "\n",
    "Where (applying the fact that $\\sigma' (x) = \\sigma (x) (1 - \\sigma(x))$):\n",
    "\n",
    "$$\\frac{\\partial net_j}{\\partial w_{i,j}} = x_i \\sigma\\left(w_{0,j}+\\sum_{i=1}^{n_{input}} x_i w_{i,j}\\right) \\left(1 - \\sigma\\left(w_{0,j}+\\sum_{i=1}^{n_{input}} x_i w_{i,j}\\right)\\right)$$\n",
    "\n",
    "Combining the above two formulae we get the overall formula for the gradient of the prediction with respect to the weights in the first layer of our network.\n",
    "\n",
    "$$\\frac{\\partial\\ \\hat{y}}{\\partial w_{i,j}}=\\sum_{j=1}^n w_{j,Output} x_{i} \\cdot \\sigma\\left(w_{0,j}+\\sum_{i=1}^n x_i w_{i,j}\\right)\\left(1 - \\sigma\\left(w_{0,j}+\\sum_{i=1}^n x_i w_{i,j}\\right)\\right)$$\n",
    "\n",
    "Now that the have the formulae for the derivatives we require let us add the following notation to have repetition of these lengthy formulae.\n",
    "\n",
    "$$\\nabla \\hat{y} = \\left[\\frac{\\partial\\ \\hat{y}}{\\partial w_{0,1}}, \\frac{\\partial\\ \\hat{y}}{\\partial w_{0,2}}, \\cdots, \\frac{\\partial\\ \\hat{y}}{\\partial w_{n_{hidden},Output}}\\right]$$\n",
    "\n",
    "We may now therefore see that\n",
    "$$\\nabla L(\\boldsymbol{w}) = \\sum_{d \\in D} \\nabla \\hat{y}_d\\cdot (\\hat{y}_d - y_d^{\\ true})$$\n",
    "\n",
    "We shall however apply the average rather than the sum of the error terms (which is simply a change in scale).\n",
    "\n",
    "Furthermore we wish to apply gradient *descent* therefore we will update the weights as below. Note the negative sign as we wish to move down the loss function to a minimum rather than follow the gradient upwards.\n",
    "\n",
    "$$ \\boldsymbol{w} \\leftarrow \\boldsymbol{w} - \\eta\\ \\nabla L(\\boldsymbol{w})$$\n",
    "\n",
    "The update at each step is therefore a step of size $\\eta$ in the direction of the gradient of the loss function."
   ]
  },
  {
   "cell_type": "markdown",
   "metadata": {},
   "source": [
    "To attain these results practically we will need to attain the values of nodes at intermediate stages of our netowkr (i.e. the $net_j$ values). Let us write a function that only partially completes the computation of our netural network. "
   ]
  },
  {
   "cell_type": "code",
   "execution_count": 14,
   "metadata": {},
   "outputs": [],
   "source": [
    "def get_intermediate_outputs(x, weights, layer):\n",
    "    x = np.insert(x, 0, 1)\n",
    "    output = x\n",
    "    full_network = False\n",
    "    if layer == len(weights):\n",
    "        layer -= 1\n",
    "        full_network = True\n",
    "    for i in range(layer):\n",
    "        output = sigmoid(np.matmul(output, weights[i]))\n",
    "        output = np.insert(output, 0, 1)\n",
    "    if full_network:\n",
    "        output = np.matmul(output, weights[-1])\n",
    "    return output"
   ]
  },
  {
   "cell_type": "markdown",
   "metadata": {},
   "source": [
    "Now we can compute the gradients and place them in a list that aligns with the weights to which the gradients apply. \n",
    "\n",
    "See comments within the function for more information.\n",
    "\n",
    "Note that this function could be made more efficient by vectorising the for loops but it works and is potentially clearer for didactic purposes and hence is left as is in the initial implementation for the moment."
   ]
  },
  {
   "cell_type": "code",
   "execution_count": 15,
   "metadata": {},
   "outputs": [],
   "source": [
    "def calculate_gradients(inputs, weights):\n",
    "    # Finding the number of layers in our network\n",
    "    no_layers = len(weights)\n",
    "    \n",
    "    # Attaining predictions to ultimately attain errors.\n",
    "    predictions = predict(inputs, weights)\n",
    "    \n",
    "    # Since we know the final layer derivatives are simply equal to the values of the nodes in the hidden\n",
    "    # layer we can get these values directly using the function written previously.\n",
    "    final_layer_derivatives = get_intermediate_outputs(inputs, weights, no_layers - 1).reshape(weights[-1].shape)\n",
    "    \n",
    "    # Attaining the values output from the first layer to help in constructing the gradients from here.\n",
    "    # These are the net values (again)\n",
    "    first_layer_outputs = get_intermediate_outputs(inputs, weights, 1)\n",
    "    \n",
    "    # Initialising an array to hold the gradients\n",
    "    previous_layer_derivatives = np.array([])\n",
    "    \n",
    "    # Looping over hidden layer nodes (j) and inputs(i)\n",
    "    for j in range(weights[-2].shape[1]):\n",
    "        for i in range(weights[-2].shape[0]):\n",
    "            # Applying the formula for the gradient as given in the text above\n",
    "            \n",
    "            # If we are handling a bias the gradient is the same calculation but forcing the input to be 0\n",
    "            if i == 0:\n",
    "                gradient = 1 * weights[-1][j] * first_layer_outputs[j+1] * (1 - first_layer_outputs[j+1])\n",
    "            else:\n",
    "                gradient = inputs[i-1] * weights[-1][j] * first_layer_outputs[j+1] * (1 - first_layer_outputs[j+1])\n",
    "                \n",
    "            # Adding our newfound gradient to the array\n",
    "            previous_layer_derivatives = np.append(previous_layer_derivatives, gradient)\n",
    "            \n",
    "    # Reshaping our gradients array to align with the weights matrix to which it applies\n",
    "    previous_layer_derivatives = np.reshape(previous_layer_derivatives, weights[-2].shape)\n",
    "    \n",
    "    # Returning the gradients in a two arrays, one for each layer\n",
    "    return previous_layer_derivatives, final_layer_derivatives"
   ]
  },
  {
   "cell_type": "markdown",
   "metadata": {},
   "source": [
    "Now we can check the output from the above function to see if it makes sense."
   ]
  },
  {
   "cell_type": "code",
   "execution_count": 16,
   "metadata": {},
   "outputs": [
    {
     "data": {
      "text/plain": [
       "(array([[ 9.55704063e-03,  2.86711219e-05,  1.81583772e-03,\n",
       "          9.55704063e-04,  3.72724585e-03],\n",
       "        [ 1.58384890e-01,  4.75154670e-04,  3.00931291e-02,\n",
       "          1.58384890e-02,  6.17701071e-02],\n",
       "        [-2.08602121e-01, -6.25806364e-04, -3.96344031e-02,\n",
       "         -2.08602121e-02, -8.13548273e-02],\n",
       "        [ 1.21456945e-01,  3.64370835e-04,  2.30768195e-02,\n",
       "          1.21456945e-02,  4.73682085e-02],\n",
       "        [-2.04403191e-01, -6.13209574e-04, -3.88366063e-02,\n",
       "         -2.04403191e-02, -7.97172446e-02]]), array([[1.        ],\n",
       "        [0.44029649],\n",
       "        [0.34187132],\n",
       "        [0.43502067],\n",
       "        [0.59169838],\n",
       "        [0.57221471]]))"
      ]
     },
     "execution_count": 16,
     "metadata": {},
     "output_type": "execute_result"
    }
   ],
   "source": [
    "calculate_gradients(i, w)"
   ]
  },
  {
   "cell_type": "markdown",
   "metadata": {},
   "source": [
    "We are finally ready to put all of our work together to implement the full back propagation algorithm. We loop over the dataset to get our predictions and then calculate our errors. The gradients are then attained and a step of size eta ($\\eta$) is taken in that direction.\n",
    "\n",
    "Each pass over the data set is known as an epoch, the step size is also known as the learning rate and is often referred to by the Greek letter eta ($\\eta$).\n",
    "\n",
    "We print out the errors so that we can see the progress of our model. Feel free to play with the step size and number of epochs in the implementation below to see if the results follow your intutition."
   ]
  },
  {
   "cell_type": "code",
   "execution_count": 17,
   "metadata": {},
   "outputs": [],
   "source": [
    "def backprop(inputs, weights, true_values, epochs, eta):\n",
    "    w = np.copy(weights)\n",
    "    for _ in range(epochs):\n",
    "        predictions = np.array([])\n",
    "        errors = np.array([])\n",
    "        gradients_l1 = np.array([w[0]])\n",
    "        gradients_l2 = np.array([w[1]])\n",
    "        for i, t in zip(inputs, true_values):\n",
    "            prediction = predict(i, w)\n",
    "            predictions = np.append(predictions, prediction)\n",
    "            errors = np.append(errors, prediction - t)\n",
    "            g1, g2 = calculate_gradients(i, w)\n",
    "            gradients_l1 = np.vstack((gradients_l1, [g1]))\n",
    "            gradients_l2 = np.vstack((gradients_l2, [g2]))\n",
    "        \n",
    "        grads = [errors.mean() * gradients_l1.mean(axis=0), errors.mean() * gradients_l2.mean(axis=0)]\n",
    "        predictions = np.array(predictions)\n",
    "        rmse = np.sqrt(((predictions - true_values)**2).mean())\n",
    "        print(rmse)\n",
    "\n",
    "        for l in range(len(w)):\n",
    "            w[l] -= eta * grads[l]\n",
    "    return w"
   ]
  },
  {
   "cell_type": "markdown",
   "metadata": {},
   "source": [
    "Finally we collect our data in numpy arrays and apply backprop using 100 epochs and an initial learning rate of 0.2."
   ]
  },
  {
   "cell_type": "code",
   "execution_count": 18,
   "metadata": {},
   "outputs": [],
   "source": [
    "x = dataset[['a','b','c','d']].values\n",
    "y = dataset['value'].values"
   ]
  },
  {
   "cell_type": "code",
   "execution_count": 19,
   "metadata": {},
   "outputs": [
    {
     "name": "stdout",
     "output_type": "stream",
     "text": [
      "1.578374146804774\n",
      "0.9312349021539885\n",
      "0.5504270612951493\n",
      "0.3250227156553526\n",
      "0.19379625178844223\n",
      "0.11996587444471339\n",
      "0.08115042336692907\n",
      "0.0629904988895241\n",
      "0.05559431277355389\n",
      "0.05287504823997944\n",
      "0.05191990388661968\n",
      "0.05158625746082776\n",
      "0.05146744701966655\n",
      "0.05142347747905161\n",
      "0.05140626381138705\n",
      "0.05139903472974495\n",
      "0.0513957602600725\n",
      "0.05139416917360941\n",
      "0.05139335085545238\n",
      "0.05139291233823147\n",
      "0.05139267084067152\n",
      "0.051392535541941925\n",
      "0.051392458948078694\n",
      "0.051392415319202835\n",
      "0.05139239037771956\n"
     ]
    }
   ],
   "source": [
    "weights_learned = backprop(x, w, y, 25, 0.2)"
   ]
  },
  {
   "cell_type": "markdown",
   "metadata": {},
   "source": [
    "We see that the root mean squared error (RMSE) is getting smaller and looks as though progress is leveling off at a RMSE of around 0.05. Extend the number of epochs and rerun the code to see how good a model you can produce. \n",
    "\n",
    "Note that the relationship we are trying to learn here is without noise so overfitting concerns are small and a very good model should be possible to attain.\n",
    "\n",
    "We will try to improve our model by continuing training with a lower learning rate meaning more fine tuning of the weights."
   ]
  },
  {
   "cell_type": "code",
   "execution_count": 20,
   "metadata": {},
   "outputs": [
    {
     "name": "stdout",
     "output_type": "stream",
     "text": [
      "0.05139237608939999\n",
      "0.051392371990503886\n",
      "0.05139236876535353\n",
      "0.05139236622740657\n",
      "0.05139236423005673\n",
      "0.0513923626580425\n",
      "0.051392361420719686\n",
      "0.05139236044678768\n",
      "0.05139235968015157\n",
      "0.05139235907667318\n",
      "0.05139235860161863\n",
      "0.0513923582276522\n",
      "0.05139235793325921\n",
      "0.0513923577015054\n",
      "0.05139235751906127\n"
     ]
    }
   ],
   "source": [
    "weights_learned = backprop(x, weights_learned, y, 15, 0.1)"
   ]
  },
  {
   "cell_type": "markdown",
   "metadata": {},
   "source": [
    "Further training has produced little progress sugesting that we are around the optimal solution our chosen model architecture can create.\n",
    "\n",
    "Let us finalise our analysis by appending a column of predictions to out `dataset` dataframe."
   ]
  },
  {
   "cell_type": "code",
   "execution_count": 21,
   "metadata": {},
   "outputs": [],
   "source": [
    "y_hat = []\n",
    "for i in x: y_hat.append(predict(i, weights_learned)[0])"
   ]
  },
  {
   "cell_type": "code",
   "execution_count": 22,
   "metadata": {},
   "outputs": [
    {
     "data": {
      "text/html": [
       "<div>\n",
       "<style scoped>\n",
       "    .dataframe tbody tr th:only-of-type {\n",
       "        vertical-align: middle;\n",
       "    }\n",
       "\n",
       "    .dataframe tbody tr th {\n",
       "        vertical-align: top;\n",
       "    }\n",
       "\n",
       "    .dataframe thead th {\n",
       "        text-align: right;\n",
       "    }\n",
       "</style>\n",
       "<table border=\"1\" class=\"dataframe\">\n",
       "  <thead>\n",
       "    <tr style=\"text-align: right;\">\n",
       "      <th></th>\n",
       "      <th>a</th>\n",
       "      <th>b</th>\n",
       "      <th>c</th>\n",
       "      <th>d</th>\n",
       "      <th>value</th>\n",
       "      <th>y hat</th>\n",
       "    </tr>\n",
       "  </thead>\n",
       "  <tbody>\n",
       "    <tr>\n",
       "      <th>0</th>\n",
       "      <td>0.915241</td>\n",
       "      <td>0.876958</td>\n",
       "      <td>0.505173</td>\n",
       "      <td>0.072895</td>\n",
       "      <td>1.198823</td>\n",
       "      <td>1.259136</td>\n",
       "    </tr>\n",
       "    <tr>\n",
       "      <th>1</th>\n",
       "      <td>0.651209</td>\n",
       "      <td>0.839387</td>\n",
       "      <td>0.396698</td>\n",
       "      <td>0.127875</td>\n",
       "      <td>1.207955</td>\n",
       "      <td>1.265691</td>\n",
       "    </tr>\n",
       "    <tr>\n",
       "      <th>2</th>\n",
       "      <td>0.560437</td>\n",
       "      <td>0.257284</td>\n",
       "      <td>0.839789</td>\n",
       "      <td>0.385774</td>\n",
       "      <td>1.195175</td>\n",
       "      <td>1.154314</td>\n",
       "    </tr>\n",
       "    <tr>\n",
       "      <th>3</th>\n",
       "      <td>0.680295</td>\n",
       "      <td>0.022301</td>\n",
       "      <td>0.435102</td>\n",
       "      <td>0.412747</td>\n",
       "      <td>1.199559</td>\n",
       "      <td>1.222694</td>\n",
       "    </tr>\n",
       "    <tr>\n",
       "      <th>4</th>\n",
       "      <td>0.282659</td>\n",
       "      <td>0.047266</td>\n",
       "      <td>0.276772</td>\n",
       "      <td>0.855818</td>\n",
       "      <td>1.299827</td>\n",
       "      <td>1.303933</td>\n",
       "    </tr>\n",
       "    <tr>\n",
       "      <th>5</th>\n",
       "      <td>0.300819</td>\n",
       "      <td>0.980814</td>\n",
       "      <td>0.318806</td>\n",
       "      <td>0.996610</td>\n",
       "      <td>1.413013</td>\n",
       "      <td>1.411764</td>\n",
       "    </tr>\n",
       "    <tr>\n",
       "      <th>6</th>\n",
       "      <td>0.063727</td>\n",
       "      <td>0.616757</td>\n",
       "      <td>0.848085</td>\n",
       "      <td>0.298776</td>\n",
       "      <td>1.195496</td>\n",
       "      <td>1.127035</td>\n",
       "    </tr>\n",
       "    <tr>\n",
       "      <th>7</th>\n",
       "      <td>0.943742</td>\n",
       "      <td>0.417800</td>\n",
       "      <td>0.793604</td>\n",
       "      <td>0.591618</td>\n",
       "      <td>1.270774</td>\n",
       "      <td>1.238789</td>\n",
       "    </tr>\n",
       "    <tr>\n",
       "      <th>8</th>\n",
       "      <td>0.434185</td>\n",
       "      <td>0.968384</td>\n",
       "      <td>0.128421</td>\n",
       "      <td>0.601513</td>\n",
       "      <td>1.340362</td>\n",
       "      <td>1.396442</td>\n",
       "    </tr>\n",
       "    <tr>\n",
       "      <th>9</th>\n",
       "      <td>0.737530</td>\n",
       "      <td>0.995429</td>\n",
       "      <td>0.733167</td>\n",
       "      <td>0.031645</td>\n",
       "      <td>1.183304</td>\n",
       "      <td>1.210274</td>\n",
       "    </tr>\n",
       "    <tr>\n",
       "      <th>10</th>\n",
       "      <td>0.143288</td>\n",
       "      <td>0.773841</td>\n",
       "      <td>0.173265</td>\n",
       "      <td>0.371768</td>\n",
       "      <td>1.260567</td>\n",
       "      <td>1.300927</td>\n",
       "    </tr>\n",
       "    <tr>\n",
       "      <th>11</th>\n",
       "      <td>0.585480</td>\n",
       "      <td>0.993777</td>\n",
       "      <td>0.818602</td>\n",
       "      <td>0.847902</td>\n",
       "      <td>1.367905</td>\n",
       "      <td>1.296828</td>\n",
       "    </tr>\n",
       "    <tr>\n",
       "      <th>12</th>\n",
       "      <td>0.424618</td>\n",
       "      <td>0.408354</td>\n",
       "      <td>0.947508</td>\n",
       "      <td>0.243112</td>\n",
       "      <td>1.167249</td>\n",
       "      <td>1.114008</td>\n",
       "    </tr>\n",
       "    <tr>\n",
       "      <th>13</th>\n",
       "      <td>0.646919</td>\n",
       "      <td>0.359743</td>\n",
       "      <td>0.448914</td>\n",
       "      <td>0.881986</td>\n",
       "      <td>1.336916</td>\n",
       "      <td>1.331845</td>\n",
       "    </tr>\n",
       "    <tr>\n",
       "      <th>14</th>\n",
       "      <td>0.232987</td>\n",
       "      <td>0.458348</td>\n",
       "      <td>0.555285</td>\n",
       "      <td>0.866850</td>\n",
       "      <td>1.327891</td>\n",
       "      <td>1.286791</td>\n",
       "    </tr>\n",
       "    <tr>\n",
       "      <th>15</th>\n",
       "      <td>0.639018</td>\n",
       "      <td>0.435043</td>\n",
       "      <td>0.526735</td>\n",
       "      <td>0.503069</td>\n",
       "      <td>1.256237</td>\n",
       "      <td>1.259781</td>\n",
       "    </tr>\n",
       "    <tr>\n",
       "      <th>16</th>\n",
       "      <td>0.136409</td>\n",
       "      <td>0.200168</td>\n",
       "      <td>0.459560</td>\n",
       "      <td>0.757791</td>\n",
       "      <td>1.281652</td>\n",
       "      <td>1.248908</td>\n",
       "    </tr>\n",
       "    <tr>\n",
       "      <th>17</th>\n",
       "      <td>0.368640</td>\n",
       "      <td>0.684299</td>\n",
       "      <td>0.157880</td>\n",
       "      <td>0.822392</td>\n",
       "      <td>1.361960</td>\n",
       "      <td>1.396713</td>\n",
       "    </tr>\n",
       "    <tr>\n",
       "      <th>18</th>\n",
       "      <td>0.441274</td>\n",
       "      <td>0.818580</td>\n",
       "      <td>0.738241</td>\n",
       "      <td>0.510918</td>\n",
       "      <td>1.278303</td>\n",
       "      <td>1.241548</td>\n",
       "    </tr>\n",
       "    <tr>\n",
       "      <th>19</th>\n",
       "      <td>0.529520</td>\n",
       "      <td>0.513486</td>\n",
       "      <td>0.960989</td>\n",
       "      <td>0.318192</td>\n",
       "      <td>1.197704</td>\n",
       "      <td>1.145964</td>\n",
       "    </tr>\n",
       "    <tr>\n",
       "      <th>20</th>\n",
       "      <td>0.334961</td>\n",
       "      <td>0.313747</td>\n",
       "      <td>0.314233</td>\n",
       "      <td>0.605725</td>\n",
       "      <td>1.270874</td>\n",
       "      <td>1.282683</td>\n",
       "    </tr>\n",
       "    <tr>\n",
       "      <th>21</th>\n",
       "      <td>0.396561</td>\n",
       "      <td>0.243641</td>\n",
       "      <td>0.011509</td>\n",
       "      <td>0.020862</td>\n",
       "      <td>1.138797</td>\n",
       "      <td>1.223808</td>\n",
       "    </tr>\n",
       "    <tr>\n",
       "      <th>22</th>\n",
       "      <td>0.174515</td>\n",
       "      <td>0.922508</td>\n",
       "      <td>0.540561</td>\n",
       "      <td>0.691979</td>\n",
       "      <td>1.330602</td>\n",
       "      <td>1.301395</td>\n",
       "    </tr>\n",
       "    <tr>\n",
       "      <th>23</th>\n",
       "      <td>0.004347</td>\n",
       "      <td>0.780349</td>\n",
       "      <td>0.701450</td>\n",
       "      <td>0.376250</td>\n",
       "      <td>1.233677</td>\n",
       "      <td>1.182341</td>\n",
       "    </tr>\n",
       "    <tr>\n",
       "      <th>24</th>\n",
       "      <td>0.831463</td>\n",
       "      <td>0.591009</td>\n",
       "      <td>0.243796</td>\n",
       "      <td>0.982047</td>\n",
       "      <td>1.393598</td>\n",
       "      <td>1.419596</td>\n",
       "    </tr>\n",
       "  </tbody>\n",
       "</table>\n",
       "</div>"
      ],
      "text/plain": [
       "           a         b         c         d     value     y hat\n",
       "0   0.915241  0.876958  0.505173  0.072895  1.198823  1.259136\n",
       "1   0.651209  0.839387  0.396698  0.127875  1.207955  1.265691\n",
       "2   0.560437  0.257284  0.839789  0.385774  1.195175  1.154314\n",
       "3   0.680295  0.022301  0.435102  0.412747  1.199559  1.222694\n",
       "4   0.282659  0.047266  0.276772  0.855818  1.299827  1.303933\n",
       "5   0.300819  0.980814  0.318806  0.996610  1.413013  1.411764\n",
       "6   0.063727  0.616757  0.848085  0.298776  1.195496  1.127035\n",
       "7   0.943742  0.417800  0.793604  0.591618  1.270774  1.238789\n",
       "8   0.434185  0.968384  0.128421  0.601513  1.340362  1.396442\n",
       "9   0.737530  0.995429  0.733167  0.031645  1.183304  1.210274\n",
       "10  0.143288  0.773841  0.173265  0.371768  1.260567  1.300927\n",
       "11  0.585480  0.993777  0.818602  0.847902  1.367905  1.296828\n",
       "12  0.424618  0.408354  0.947508  0.243112  1.167249  1.114008\n",
       "13  0.646919  0.359743  0.448914  0.881986  1.336916  1.331845\n",
       "14  0.232987  0.458348  0.555285  0.866850  1.327891  1.286791\n",
       "15  0.639018  0.435043  0.526735  0.503069  1.256237  1.259781\n",
       "16  0.136409  0.200168  0.459560  0.757791  1.281652  1.248908\n",
       "17  0.368640  0.684299  0.157880  0.822392  1.361960  1.396713\n",
       "18  0.441274  0.818580  0.738241  0.510918  1.278303  1.241548\n",
       "19  0.529520  0.513486  0.960989  0.318192  1.197704  1.145964\n",
       "20  0.334961  0.313747  0.314233  0.605725  1.270874  1.282683\n",
       "21  0.396561  0.243641  0.011509  0.020862  1.138797  1.223808\n",
       "22  0.174515  0.922508  0.540561  0.691979  1.330602  1.301395\n",
       "23  0.004347  0.780349  0.701450  0.376250  1.233677  1.182341\n",
       "24  0.831463  0.591009  0.243796  0.982047  1.393598  1.419596"
      ]
     },
     "execution_count": 22,
     "metadata": {},
     "output_type": "execute_result"
    }
   ],
   "source": [
    "dataset['y hat'] = y_hat\n",
    "dataset.head(25)"
   ]
  },
  {
   "cell_type": "markdown",
   "metadata": {},
   "source": [
    "We may see that occasionally our model works well. However in general it is not a great predictive model. The RMSE may seem small but in terms of the scale of the data it is probably an average error of 5-10%. Not great performance when modelling a known determanistic process.\n",
    "\n",
    "How could we improve the model?\n",
    "We could update the model architecture, try alternative activation functions, a greater number of nodes in the hidden layer and more layers within the model all of which will change and potentially augement the expressive power of our model.\n",
    "\n",
    "A more likely avenue for improvement is to improve the model through incremental training or stochastic gradient descent. The incremental case involves updating the weights after each data point had been passed through the back propagation algorithm rather than aggregating and updating with averages. Stochastic gradient descent involves updating after taking a sample of the data points and calculating the gradients for the sample only before averaging and updating. This allows some sampling noise into training which can help to avoid training towards the average case alone.\n",
    "\n",
    "In future this notebook may be updated to handle such cases (in fact what we have done here for training is less frequently seen than the two cases noted above as improvements).\n",
    "\n",
    "However, the notebook aims to be a learning tool for those who wish to understand how neural networks work and how they can be trained. Our algorithm works with limited success and taking a slightly alternative approch means that one may now truly consider how back propagation works rather than simply seeing the standard notes and approach and taking it for granted.\n",
    "\n",
    "All feedback, comments and advice welcome."
   ]
  }
 ],
 "metadata": {
  "kernelspec": {
   "display_name": "Python 3",
   "language": "python",
   "name": "python3"
  },
  "language_info": {
   "codemirror_mode": {
    "name": "ipython",
    "version": 3
   },
   "file_extension": ".py",
   "mimetype": "text/x-python",
   "name": "python",
   "nbconvert_exporter": "python",
   "pygments_lexer": "ipython3",
   "version": "3.6.6"
  }
 },
 "nbformat": 4,
 "nbformat_minor": 2
}
