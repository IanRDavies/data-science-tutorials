{
 "cells": [
  {
   "cell_type": "markdown",
   "metadata": {},
   "source": [
    "# The Multi-Layer Perceptron\n",
    "Any neural network is simply a series of perceptrons feeding into one another. The perceptrons are arranged in layers with the outputs of a previous layer being the inputs into the next layer.\n",
    "\n",
    "With this in mind it seems that we did much of the heavy lifting in our [first notebook](./01. The Perceptron.ipynb) concerning the percepton - the single neuron emulating unit that is the building block of a neural network.\n",
    "\n",
    "In this workbook we will consider the simplest case of a fully-connected network. That is a network where each node (percepton) in a given layer is connected to every node in the subsequent layer. This means that the output of a perceptron in the first layer will therefore be an input into each perceptron in the next layer.\n",
    "\n",
    "![Neural Network Diagram](./img/neural-network.png \"A Fully Connected Neural Network\")\n",
    "\n",
    "## Expressiveness of Neural Networks\n",
    "\n",
    "## Training a Neural Network vs Training a Perceptron\n",
    "Similarly to the case of the vanilla perceptron we considered before, the values passed as inputs to each layer (and therefore each perceptron in that layer) will have weights associated with them. These weights will be the variables which we will vary as part of the training process with the ultimate goal of loss minimisation.\n",
    "\n",
    "In contrast to a single perceptron, a multi-layer perceptron must be trained in a more complex way since the weights in the first layer only have an indirect impact on the output albeit through many channels in a fully connected network. This indirect influence is difficult to trace through should the step activation function be kept. The discontinuous function is not differentiable and hence we are unable to perform what's known as backpropagation to calculate the impact of early layer weights on the ultimate output. Backpropagation is the algorithmic way of training a neural network. Errors in the output are traced back through the layers of the network and the weights are updated in turn in order to reduce the error. We will consider this process in detail later. \n",
    "\n",
    "In order to undertake backpropagation the error, or more specifically the model prediction, needs to be differentiable with respect to the weights. In order to achieve this, a smooth (differentiable) activation function is used in place of the perceptron step function.\n",
    "\n",
    "These functions are known as activation functions because they play the role of the activation threshold in the perceptron or the neuron being emulated. Popular choices are the sigmoid function, tanh and the Rectified Linear Unit function (ReLU).\n",
    "\n",
    "We will discuss the mathematics of backpropagation in detail [later](#backpropagation).\n",
    "\n",
    "\n",
    "## Activation Functions\n",
    "Activation functions determine how a perceptron produces its output. Unlike neurons, perceptrons are not limited to binary output and hence may produce any real number as their output. The choice of activation function can therefore shape this output by shaping the relationship between inputs and the output beyond the linear way in which weights enter the equation. This relationship change can be made for computational ease, to match the relationship we are trying to estimate or to aid in training the model.\n",
    "\n",
    "In the case of the neurons in our brains that the perceptrons aim to emulate, activation functions play the role of the activation threshold. In the brain the threshold is placed on a concentration gradient across a membrane which much reach a certain strength before an activation potential will be passed along the neuron. In our case, working in the mathematics of real numbers we need not limit ourselves to binary output. We may consider any output on the real domain. This can be considered the number of action potentials per second should one wish to maintain the biological parallels.\n",
    "\n",
    "### The Sigmoid Function\n",
    "A binary classifier may aim to place a probability on the given input belonging to a given class. This will mean that the outputs must, by way of being probabilities, fall in the unit interval ($o \\in [0,1]$). The sigmoid function will always produce outputs that are between 0 and 1 and can therefore be considered valid probabilities. The functional form of the sigmoid function is given below.\n",
    "\n",
    "$$\\sigma(x)=\\frac{1}{1+e^{-x}}$$\n",
    "\n",
    "<small><center><span style=\"color:gray\">*The Sigmoid Function*</span></center></small>\n",
    "\n",
    "\n",
    "Note that this function is strictly increasing in $x$ and varies from $0$ when $x$ is $-\\infty$ and 1 when $x$ is $\\infty$. It is smooth, defined for all real numbers and differentiable.\n",
    "\n",
    "Infact the differential takes a rather nice form which is one reason for the function's popularity. This will help us when training the model later on.\n",
    "\n",
    "\n",
    "$$\\sigma(x)=\\frac{1}{1+e^{-x}}$$\n",
    "<small><center><span style=\"color:gray\">*The Sigmoid Function*</span></center></small>\n",
    "\n",
    "Let's plot this function so that we can see what we're dealing with."
   ]
  },
  {
   "cell_type": "markdown",
   "metadata": {},
   "source": [
    "First we'll import our mathematical toolkit `numpy` and the plotting tools `matplotlib` and `seaborn`."
   ]
  },
  {
   "cell_type": "code",
   "execution_count": 1,
   "metadata": {},
   "outputs": [],
   "source": [
    "import pandas as pd\n",
    "import numpy as np\n",
    "import matplotlib.pyplot as plt\n",
    "import seaborn as sns\n",
    "sns.set()"
   ]
  },
  {
   "cell_type": "markdown",
   "metadata": {},
   "source": [
    "Let's define our sigmoid function.\n",
    "\n",
    "Note that we decorate it with `numpy`'s `vectorize` function so that the function can be called on lists and arrays without further modification."
   ]
  },
  {
   "cell_type": "code",
   "execution_count": 2,
   "metadata": {},
   "outputs": [],
   "source": [
    "@np.vectorize\n",
    "def sigmoid(x):\n",
    "    return 1/(1+np.exp(-x))"
   ]
  },
  {
   "cell_type": "markdown",
   "metadata": {},
   "source": [
    "Finally let us generate some points and create a plot."
   ]
  },
  {
   "cell_type": "code",
   "execution_count": 3,
   "metadata": {},
   "outputs": [
    {
     "data": {
      "image/png": "[encoded data removed]",
      "text/plain": [
       "<Figure size 648x324 with 1 Axes>"
      ]
     },
     "metadata": {},
     "output_type": "display_data"
    }
   ],
   "source": [
    "x = np.linspace(-10, 10, 1000)\n",
    "y = sigmoid(x)\n",
    "plt.plot(x,y, figure=plt.figure(figsize=(9,4.5)))\n",
    "plt.axvline(0, color='k', lw=0.5)\n",
    "plt.xlabel('$x$', size=15)\n",
    "plt.ylabel('$\\sigma(x)$', size=15);"
   ]
  },
  {
   "cell_type": "markdown",
   "metadata": {},
   "source": [
    "Let us find the differential by applying the quotient rule. \n",
    "\n",
    "$$\\frac{d\\frac{u}{v}}{dx}=\\frac{v\\frac{du}{dx} - u\\frac{dv}{dx}}{v^2}$$\n",
    "\n",
    "<small><center><span style=\"color:gray\">*The Quotient Rule*</span></center></small>\n",
    "\n",
    "This leads us to the following derivative of the sigmoid function.\n",
    "\n",
    "$$\n",
    "\\begin{align}\n",
    "\\sigma'(x) &=\\frac{e^{-x}}{(1+e^{-x})^2}\\\\&=\\frac{1}{1+e^{-x}}\\cdot \\frac{e^{-x}}{1+e^{-x}}\\\\&=\\frac{1}{1+e^{-x}}\\cdot\\frac{(1+e^{-x})-1}{1+e^{-x}}\\\\&=\\frac{1}{1+e^{-x}}\\cdot\\left(1-\\frac{1}{1+e^{-x}}\\right)\\\\&=\\sigma(x)(1-\\sigma(x))\n",
    "\\end{align}\n",
    "$$"
   ]
  },
  {
   "cell_type": "markdown",
   "metadata": {},
   "source": [
    "## Setting A Problem To Solve\n",
    "\n",
    "To consider how neural networks work we need a set of data to learn from. In this case we will consider a a more complex classification problem wherein the outcome will be determined by some non-linear function of the inputs. This non-linear function is what we aim to learn with our network. First we must consider the relationship we wish to build. Let us consider a function of 4 variables. This will enable us to create a network as in the diagram at the top of this notebook (we will ultimately build a network with one hidden layer of 5 units).\n",
    "\n",
    "We let our input variables be random normal values ($a, b, c, d \\sim \\mathcal{N}(0,1)$) so that values are all on a standardised scale. This aids in the training of the network. While this scaling wont necessarily be the same in real data sets data is usually normalised (yielding so-called 'z' values) before training a neural network with it. Predictions that then be rescaled to return a meaningful value on the original scale."
   ]
  },
  {
   "cell_type": "code",
   "execution_count": 4,
   "metadata": {},
   "outputs": [],
   "source": [
    "a = np.random.normal(size=10000)\n",
    "b = np.random.normal(size=10000)\n",
    "c = np.random.normal(size=10000)\n",
    "d = np.random.normal(size=10000)"
   ]
  },
  {
   "cell_type": "markdown",
   "metadata": {},
   "source": [
    "Now let us define a function of these five variables that generates a surface separating positive and negative examples."
   ]
  },
  {
   "cell_type": "code",
   "execution_count": 5,
   "metadata": {},
   "outputs": [],
   "source": [
    "@np.vectorize\n",
    "def hyperplane(a,b,c,d):\n",
    "    value = 1\n",
    "    if a > 0.75:\n",
    "        value *= np.sqrt(a)\n",
    "    if b < 0.1:\n",
    "        value += b\n",
    "    if c > -0.6 or d < 0:\n",
    "        value += c * d\n",
    "    return value"
   ]
  },
  {
   "cell_type": "markdown",
   "metadata": {},
   "source": [
    "We apply this function to attain the outputs we will later seek to predict. We will refer to these as the true values as they are generated by the process we wish to learn. They are stored in the variable `true_values` accordingly."
   ]
  },
  {
   "cell_type": "code",
   "execution_count": 6,
   "metadata": {},
   "outputs": [],
   "source": [
    "true_values = hyperplane(a,b,c,d)"
   ]
  },
  {
   "cell_type": "markdown",
   "metadata": {},
   "source": [
    "Finally, we put all of our data in one place. We generate a data frame with the inputs having their own columns and the outputs appended on the right. This is similar to how we may expect a real data set from an experiment to look and working with `pandas` should aid transition to any other work you may wish to pursue with neural nets (particularly if using `scikit-learn`."
   ]
  },
  {
   "cell_type": "code",
   "execution_count": 7,
   "metadata": {},
   "outputs": [],
   "source": [
    "dataset = pd.DataFrame(data={\n",
    "    'a':a,\n",
    "    'b':b,\n",
    "    'c':c,\n",
    "    'd':d,\n",
    "    'value': true_values\n",
    "})"
   ]
  },
  {
   "cell_type": "markdown",
   "metadata": {},
   "source": [
    "A quick peek at the data set to finalise the data initialisation and save us rereading this section when we just want to understand the structure of our data set. "
   ]
  },
  {
   "cell_type": "code",
   "execution_count": 8,
   "metadata": {},
   "outputs": [
    {
     "data": {
      "text/html": [
       "<div>\n",
       "<style scoped>\n",
       "    .dataframe tbody tr th:only-of-type {\n",
       "        vertical-align: middle;\n",
       "    }\n",
       "\n",
       "    .dataframe tbody tr th {\n",
       "        vertical-align: top;\n",
       "    }\n",
       "\n",
       "    .dataframe thead th {\n",
       "        text-align: right;\n",
       "    }\n",
       "</style>\n",
       "<table border=\"1\" class=\"dataframe\">\n",
       "  <thead>\n",
       "    <tr style=\"text-align: right;\">\n",
       "      <th></th>\n",
       "      <th>a</th>\n",
       "      <th>b</th>\n",
       "      <th>c</th>\n",
       "      <th>d</th>\n",
       "      <th>value</th>\n",
       "    </tr>\n",
       "  </thead>\n",
       "  <tbody>\n",
       "    <tr>\n",
       "      <th>0</th>\n",
       "      <td>0.163325</td>\n",
       "      <td>-0.385221</td>\n",
       "      <td>0.665940</td>\n",
       "      <td>-0.897070</td>\n",
       "      <td>0.017384</td>\n",
       "    </tr>\n",
       "    <tr>\n",
       "      <th>1</th>\n",
       "      <td>-0.020306</td>\n",
       "      <td>1.928669</td>\n",
       "      <td>0.318800</td>\n",
       "      <td>1.789753</td>\n",
       "      <td>1.570572</td>\n",
       "    </tr>\n",
       "    <tr>\n",
       "      <th>2</th>\n",
       "      <td>-1.138172</td>\n",
       "      <td>0.825512</td>\n",
       "      <td>-1.609821</td>\n",
       "      <td>-0.592231</td>\n",
       "      <td>1.953385</td>\n",
       "    </tr>\n",
       "    <tr>\n",
       "      <th>3</th>\n",
       "      <td>-0.631553</td>\n",
       "      <td>0.346746</td>\n",
       "      <td>-0.871629</td>\n",
       "      <td>0.723593</td>\n",
       "      <td>1.000000</td>\n",
       "    </tr>\n",
       "    <tr>\n",
       "      <th>4</th>\n",
       "      <td>-0.095063</td>\n",
       "      <td>-1.189832</td>\n",
       "      <td>1.127854</td>\n",
       "      <td>-0.874842</td>\n",
       "      <td>-1.176526</td>\n",
       "    </tr>\n",
       "  </tbody>\n",
       "</table>\n",
       "</div>"
      ],
      "text/plain": [
       "          a         b         c         d     value\n",
       "0  0.163325 -0.385221  0.665940 -0.897070  0.017384\n",
       "1 -0.020306  1.928669  0.318800  1.789753  1.570572\n",
       "2 -1.138172  0.825512 -1.609821 -0.592231  1.953385\n",
       "3 -0.631553  0.346746 -0.871629  0.723593  1.000000\n",
       "4 -0.095063 -1.189832  1.127854 -0.874842 -1.176526"
      ]
     },
     "execution_count": 8,
     "metadata": {},
     "output_type": "execute_result"
    }
   ],
   "source": [
    "dataset.head()"
   ]
  },
  {
   "cell_type": "markdown",
   "metadata": {},
   "source": [
    "<a id=\"build\"></a>\n",
    "## Building the Neural Network\n",
    "### The Forward Pass\n",
    "\n",
    "Now that we have a problem we wish to apply our machine learner to we need to build the learner. In the case of the multi-layer perceptrons (relatively vanilla neural networks) we will be using here this is relatively simple.\n",
    "\n",
    "If one is familiar with summation notation and matrix algebra the mathematics and implementation of the forward pass is fairly straight forward. The formula for prediction is given below where $w_{a, b}$ denotes the weight from node $a$ to node $b$, $0$ denotes the bias weight in the respective layer, $Output$ denotes the output node, the $i$'s range over the inputs (of which there are $n_{input}$) and the $j$'s range over the nodes in the hidden layer (of which there are $n_{hidden})$.\n",
    "\n",
    "$$ prediction = w_{0,O}+\\sum_{j=1}^{n_{hidden}} w_{j,Output}\\cdot \\sigma\\left(w_{0,j}+\\sum_{i=1}^{n_{input}} x_i w_{i,j}\\right)$$\n",
    "\n",
    "One memorable way of phrasing the way each layer in a neural networks works, (to my knowledge) coined by [Siraj Raval](https://www.youtube.com/channel/UCWN3xxRkmTPmbKwht9FuE5A), is as below.\n",
    "\n",
    "> Input times weights, plus a bias, activate!\n",
    "\n",
    "Put mathematically, take the matrix product of your vector of inputs and the matrix of weights for the layer in question (at each layer), add a bias and pass the result through your chosen activation function. The matrix form of the forward pass is wirtten below where $W_k$ denotes the weights matrix for layer $k$ and $b_k$ denotes the bias vector for each layer.\n",
    "\n",
    "$$ prediction = \\boldsymbol{b_2} + \\boldsymbol{W_2}\\left( \\sigma\\left(\\boldsymbol{b_1} + \\boldsymbol{W_1}\\boldsymbol{x}\\right)\\right)$$\n",
    "\n",
    "Note that for non-input layers the inputs are the outputs of the previous layer and that, in practical implementations, adding a bias is usually done by prepending a 1 to the start of your input vector and adding another row (of the biases) to the top of the weights matrix. This then deals with adding the bias through the matrix multiplication. Note that element $(i, j)$ of any given weight matrix (usually denoted $w_{i,j}$) is the weight from input $i$ on the sum in node $j$.\n",
    "\n",
    "Note that in the network built here the sigmoid function is used as an activation function. This limits the outputs of the given layer to be in the unit interval. However, we know from the data generation work above that the outputs will not necessarily be in this interval. Therefore in the final layer, in order not to limit the range of outputs, we will apply no activation at all, consider this like the case of the [plain perceptron](./01. The Perceptron.ipynb). This changes the formula above by taking out the sigmoid transformation ($\\sigma(\\cdot)$), this can also be considered by just changing the activation function in the final layer to an identity function ($f_{identity}(x) = x$)."
   ]
  },
  {
   "cell_type": "code",
   "execution_count": null,
   "metadata": {},
   "outputs": [],
   "source": []
  },
  {
   "cell_type": "markdown",
   "metadata": {},
   "source": [
    "Given the formulae above we can write our prediction function. It takes the input vector $\\boldsymbol{x}$ and a list of weights matrices (one for each layer of the neural network) and conducts the arithmatic above.\n",
    "\n",
    "Initially a $1$ is inserted in the first position of the input vector $\\boldsymbol{x}$ to account for the bias (included here as an extra row of weights in the relevant weight matrices). Then for each intermediate (i.e. 'hidden') layer the matrix multiplication is conducted and the activation function applied to this output. To again account for an additive bias, a $1$ is prepended to the hidden layer output vector. Note that the final layer, having no activation function, is treated separately on the penultimate line of the function written below. The matrix multiplication is carried out as normal yet no activation is applied."
   ]
  },
  {
   "cell_type": "code",
   "execution_count": 9,
   "metadata": {},
   "outputs": [],
   "source": [
    "def predict(x, weights):\n",
    "    x = np.insert(x, 0, 1)\n",
    "    output = x\n",
    "    for layer in weights[:-1]:\n",
    "        output = sigmoid(np.matmul(output, layer))\n",
    "        output = np.insert(output, 0, 1)\n",
    "    output = np.matmul(output, weights[-1])\n",
    "    return output"
   ]
  },
  {
   "cell_type": "markdown",
   "metadata": {},
   "source": [
    "Let us run a quick test example of how this preiction function works to make sure all is working well before we develop our training algorithm."
   ]
  },
  {
   "cell_type": "markdown",
   "metadata": {},
   "source": [
    "#### Example\n",
    "For a working example we need the weights and some input. We will initialise the weights to be small random numbers. These are the weights we will start to learn from later on and hence we do not wish to include any big values as to do so imposes some strong prior view as to the relationship between the inputs and outputs.\n",
    "\n",
    "The weights for each layer will be stored in an $n\\times m$ matrix where $n$ is one greater than the number of nodes in the previous layer (one greater to account for the bias, in inputs can be considered a layer of nodes) and $m$ is the number of nodes in the subsequent layer (this time ignoring any bias 'node').\n",
    "\n",
    "Given that we are replicating the diagram at the top of this notebook which shows a network taking 4 inputs, having a hidden layer of 5 units and generates a single output our weight matrices will be of sizes $5\\times 5$ and $6\\times 1$ for the first and second layers respectively. Entry $i, j$ in each matrix can be considered to be the weight placed on input $i$ in the calculation at node $j$ for the respective layer. Note that when $i = 0$ (if using a 0 based indexing system) the weight can be considered a scalar bias."
   ]
  },
  {
   "cell_type": "code",
   "execution_count": 10,
   "metadata": {},
   "outputs": [],
   "source": [
    "w = [np.random.normal(0, 0.1, size=(5,5)),\n",
    "     np.random.normal(0, 0.1, size=(6,1))\n",
    "    ]"
   ]
  },
  {
   "cell_type": "markdown",
   "metadata": {},
   "source": [
    "Since the relationship we are learning has been developed hear for pedagogic reasons it it not necessarily meaningful with the focus being on the mathematics of modelling. Therefore we can just choose some fairly random number from the ranges included in the inputs."
   ]
  },
  {
   "cell_type": "code",
   "execution_count": 11,
   "metadata": {},
   "outputs": [],
   "source": [
    "i = np.array([0.003, 0.19, 0.1, 0.39])"
   ]
  },
  {
   "cell_type": "markdown",
   "metadata": {},
   "source": [
    "Finally we can run our prediction with our chosen inputs and the random weights. Note that the output is a 1-vector (a numpy array) rather than a raw scalar value since it is the result of matrix multiplication. This means that the network can be generalised to have multiple outputs."
   ]
  },
  {
   "cell_type": "code",
   "execution_count": 12,
   "metadata": {},
   "outputs": [
    {
     "data": {
      "text/plain": [
       "array([-0.42134631])"
      ]
     },
     "execution_count": 12,
     "metadata": {},
     "output_type": "execute_result"
    }
   ],
   "source": [
    "predict(i, w)"
   ]
  },
  {
   "cell_type": "markdown",
   "metadata": {},
   "source": [
    "Should you wish to consolidate your understanding of how this network works the list of weight matrices is given below so that you may trace/check the calculation yourself outside of Python."
   ]
  },
  {
   "cell_type": "code",
   "execution_count": 19,
   "metadata": {},
   "outputs": [
    {
     "data": {
      "text/plain": [
       "[array([[ 0.18805338, -0.07410211, -0.07679165, -0.08419615, -0.04599026],\n",
       "        [ 0.00771777,  0.16597534, -0.14260196, -0.16059847,  0.05590546],\n",
       "        [-0.03779072,  0.15550568,  0.04365569,  0.0773257 ,  0.0743629 ],\n",
       "        [-0.02664708,  0.19295679, -0.16059834, -0.09362582, -0.10652823],\n",
       "        [-0.05391733,  0.02795361, -0.10793611,  0.08040204, -0.01066976]]),\n",
       " array([[ 0.36199286],\n",
       "        [ 0.11465986],\n",
       "        [ 0.05240401],\n",
       "        [ 0.32642494],\n",
       "        [ 0.18349236],\n",
       "        [-0.11240203]])]"
      ]
     },
     "execution_count": 19,
     "metadata": {},
     "output_type": "execute_result"
    }
   ],
   "source": [
    "w"
   ]
  },
  {
   "cell_type": "markdown",
   "metadata": {},
   "source": [
    "<a id=\"backpropagation\"></a>\n",
    "## Backpropagation\n",
    "Now comes the more complicated part. Training the model.\n",
    "\n",
    "The [forward pass](#build) presented above is also known as forward propagation as the calculation at each stage is propagated forwards into the next  calculation. For the model to learn it must learn from the errors made. These errors are the differences between the predictions and the known values. Therefore the errors are clearly measured at the output of the network. The errors being noted at the end of the calculation but the parameters we wish to vary to reduce the errors (namely the weights in each layer) occuring earlier in the calculation requires that the errors and information from later layers be passed back to earlier layers in order for learning to occur. This led to the backpropagation algorithm whereby the errors and information from any later layers are used when training a given layer.\n",
    "\n",
    "Before we lay out the mathematics of the training algorithm let us first consider the intuition of the process we are about to undertake. We will define a loss function that is proportional to the prediction error (but may contain other penalties or weight certain errors more heavily than others). This loss function will be defined over the possible values for the weights in our model. The aim is therefore to minimise the loss function (thereby reducing prediction errors) by varying the weights within our neural network.\n",
    "\n",
    "The approach we will take is gradient descent. Let me provide the intuition as follows. Imagine that there are only two weights over which you wish to minimise the loss. The loss is therefore defined at all possible pairings of weight values. Given that the weights are continuous variables the space of weights and the related losses can be plotted in three-dimensional space with the 'floor' being coordinates in $w_1, w_2$ space and the hight at any point being given by $loss = L(w_1, w_2)$. We csn imagine this to be like a mountainous landscape. The weights are initialised at a random point $(w_1^{start}, w_2^{start})$ from which we wish to get to the optimum $(w_1^*,w_2^*)$ which will be the lowest point on the surface. Mathematically we are looking to find $\\min_{(w_1,w_2)}{L(w_1, w_2)}$. We will get there step by step by moving 'downhill'. This is done by calculating the gradient at our current position and finding the steepest way down and then taking a step of given size in that direction before then reevaluating the gradient and then continuing on. This descent will bring us down until we reach a minimum or we run out of steps/time.\n",
    "\n",
    "Note that in the above we end at _a minimum_ not the minimum. The problem of arriving at a local minimum is one that is greatly explored in all optimisation including in machine learning. This alongside problems around overfitting, choosing the step size and many more elements of designing and implementing an optimisation algorithm will be left for a later day. Today we will focus on the mathematics of our chosen (standard) optimisation algorithm. The key to this is finding the gradient we wish to take a step in the direction of. This gradient (of the loss function) is given by the vector below.\n",
    "\n",
    "$$\\nabla L(\\boldsymbol{w}) = \\left[\\frac{\\partial L}{\\partial w_{0,1}}, \\frac{\\partial L}{\\partial w_{0,2}}, \\cdots, \\frac{\\partial L}{\\partial w_{m,Output}}\\right]$$\n",
    "\n",
    "Now we may define this loss function and find the derivatives. Once we have this information we will be able to train our multi-layer perceptron."
   ]
  },
  {
   "cell_type": "markdown",
   "metadata": {},
   "source": [
    "We will use a simple standard loss function of minmising the sum of squared residuals. We will scale this loss to make some of the later mathematics easier. We define the loss across all datapoints $d$ in the available data set $D$ as below.\n",
    "\n",
    "$$Loss = \\frac{1}{2} \\sum_{d\\in D} \\left(\\hat{y}_d - y^{\\ true}_d\\right)^2$$\n",
    "\n",
    "Where the model prediction is given by $\\hat{y}$ and the target value is given by $y^{\\ true}$.\n",
    "\n",
    "Now that we have the loss function along with a [formula](#build) for the prediction as a function of the weights we may take derivatives to build up the gradient vector.\n",
    "\n",
    "Firstly let us remind ourselves of the forward pass formula.\n",
    "\n",
    "$$ prediction = w_{0,O}+\\sum_{j=1}^{n_{hidden}} w_{j,Output}\\cdot \\sigma\\left(w_{0,j}+\\sum_{i=1}^{n_{input}} x_i w_{i,j}\\right)$$\n",
    "\n",
    "At a high level the derivative of the loss function with respect to some weight $w_{i,j}$ will be given by the following.\n",
    "\n",
    "$$\\frac{\\partial Loss}{\\partial w_{i,j}} = \\sum_{d\\in D} \\left(\\frac{\\partial \\hat{y}_d}{\\partial w_{i,j}} \\left(\\hat{y}_d - y^{\\ true}_d\\right)\\right)$$\n",
    "\n",
    "Note that the $\\frac{1}{2}$ we scaled the loss by cancels with the power of $2$ now that we take the first derivative, this saves us from juggling constants without losing anything of consequence.\n",
    "\n",
    "The non-trivial part of this derivative is the term in the derivative of $\\hat{y}$. Let's focus on this term and rebuild the full derivative once we have all the parts.\n",
    "\n",
    "First considering the simpler case of an element of the final layer (i.e. this derivative for weights between the hidden layer and the output).\n",
    "\n",
    "$$\\frac{\\partial\\ \\hat{y}}{\\partial w_{j, Output}} = w_{j,Output}\\ net_j$$\n",
    "\n",
    "Where $net_j$ denotes the value of the $j^{th}$ unit in the hidden layer and $w_{j, Ouput}$ denotes the weight between the $j^{th}$ node of the hidden layer and the output node. To clarify:\n",
    "\n",
    "$$net_j = \\sigma\\left(w_{0,j}+\\sum_{i=1}^n x_i w_{i,j}\\right)$$\n",
    "\n",
    "The more complex derivatives are those concerning the weights earlier in the tree. This makes sense as they do not affect the prediction so directly as they influence the values in the hidden layer which then affect the output through another layer of calculation. Therefore these weights have a more in direct impact and this generates a more complex derivative for the prediction depending on more terms. This derivative is given below.\n",
    "\n",
    "$$\\frac{\\partial\\ \\hat{y}}{\\partial w_{i,j}}=\\sum_{j=0}^{n_{hidden}} \\left(w_{j,Output}\\cdot \\frac{\\partial net_j}{\\partial w_{i,j}}\\right)$$\n",
    "\n",
    "Where (applying the fact that $\\sigma' (x) = \\sigma (x) (1 - \\sigma(x))$):\n",
    "\n",
    "$$\\frac{\\partial net_j}{\\partial w_{i,j}} = x_i \\sigma\\left(w_{0,j}+\\sum_{i=1}^{n_{input}} x_i w_{i,j}\\right) \\left(1 - \\sigma\\left(w_{0,j}+\\sum_{i=1}^{n_{input}} x_i w_{i,j}\\right)\\right)$$\n",
    "\n",
    "Combining the above two formulae we get the overall formula for the gradient of the prediction with respect to the weights in the first layer of our network.\n",
    "\n",
    "$$\\frac{\\partial\\ \\hat{y}}{\\partial w_{i,j}}=\\sum_{j=1}^n w_{j,Output} x_{i} \\cdot \\sigma\\left(w_{0,j}+\\sum_{i=1}^n x_i w_{i,j}\\right)\\left(1 - \\sigma\\left(w_{0,j}+\\sum_{i=1}^n x_i w_{i,j}\\right)\\right)$$"
   ]
  },
  {
   "cell_type": "code",
   "execution_count": 13,
   "metadata": {},
   "outputs": [],
   "source": [
    "def get_intermediate_outputs(x, weights, layer):\n",
    "    x = np.insert(x, 0, 1)\n",
    "    output = x\n",
    "    full_network = False\n",
    "    if layer == len(weights):\n",
    "        layer -= 1\n",
    "        full_network = True\n",
    "    for i in range(layer):\n",
    "        output = sigmoid(np.matmul(output, weights[i]))\n",
    "        output = np.insert(output, 0, 1)\n",
    "    if full_network:\n",
    "        output = np.matmul(output, weights[-1])\n",
    "    return output"
   ]
  },
  {
   "cell_type": "code",
   "execution_count": 14,
   "metadata": {},
   "outputs": [],
   "source": [
    "def calculate_gradients(inputs, weights):\n",
    "    no_layers = len(weights)\n",
    "    predictions = predict(inputs, weights)\n",
    "    final_layer_derivatives = get_intermediate_outputs(inputs, weights, no_layers - 1).reshape(weights[-1].shape)\n",
    "    first_layer_outputs = get_intermediate_outputs(inputs, weights, 1)\n",
    "    previous_layer_derivatives = np.array([])\n",
    "    for j in range(weights[-2].shape[1]):\n",
    "        for i in range(weights[-2].shape[0]):\n",
    "            if i == 0:\n",
    "                gradient = 1 * weights[-1][j]\n",
    "            else:\n",
    "                gradient = inputs[i-1] * weights[-1][j] * first_layer_outputs[j+1] * (1 - first_layer_outputs[j+1])\n",
    "            previous_layer_derivatives = np.append(previous_layer_derivatives, gradient)\n",
    "    previous_layer_derivatives = np.reshape(previous_layer_derivatives, weights[-2].shape)\n",
    "    return [previous_layer_derivatives, final_layer_derivatives]"
   ]
  },
  {
   "cell_type": "code",
   "execution_count": 15,
   "metadata": {},
   "outputs": [
    {
     "data": {
      "text/plain": [
       "[array([[-1.14233004e-01, -8.55354646e-05, -5.41724609e-03,\n",
       "         -2.85118215e-03, -1.11196104e-02],\n",
       "        [-1.60430835e-01, -1.20310267e-04, -7.61965027e-03,\n",
       "         -4.01034225e-03, -1.56403348e-02],\n",
       "        [-1.50200378e-01, -1.12291180e-04, -7.11177472e-03,\n",
       "         -3.74303932e-03, -1.45978534e-02],\n",
       "        [ 8.03867403e-02,  6.02725651e-05,  3.81726246e-03,\n",
       "          2.00908550e-03,  7.83543347e-03],\n",
       "        [-2.87743447e-02, -2.15768326e-05, -1.36653273e-03,\n",
       "         -7.19227755e-04, -2.80498824e-03]]), array([[1.        ],\n",
       "        [0.52016049],\n",
       "        [0.49483108],\n",
       "        [0.47176981],\n",
       "        [0.49148386],\n",
       "        [0.49325618]])]"
      ]
     },
     "execution_count": 15,
     "metadata": {},
     "output_type": "execute_result"
    }
   ],
   "source": [
    "calculate_gradients(i, w)"
   ]
  },
  {
   "cell_type": "code",
   "execution_count": 16,
   "metadata": {},
   "outputs": [],
   "source": [
    "def backprop(inputs, weights, true_values, epochs, eta):\n",
    "    w = np.copy(weights)\n",
    "    for _ in range(epochs):\n",
    "        predictions = []\n",
    "        for i in inputs:\n",
    "            predictions.append(predict(i, w))\n",
    "        predictions = np.array(predictions)\n",
    "        grads = calculate_gradients(i, w)\n",
    "        error = (true_values - predictions).mean()\n",
    "        print(error)\n",
    "        update = []\n",
    "        for layer_grad in grads:\n",
    "            update.append(eta * error * layer_grad)\n",
    "        for l in range(len(w)):\n",
    "            w[l] += update[l]\n",
    "    return w"
   ]
  },
  {
   "cell_type": "code",
   "execution_count": 17,
   "metadata": {},
   "outputs": [],
   "source": [
    "x = dataset[['a','b','c','d']].values\n",
    "y = dataset['value'].values"
   ]
  },
  {
   "cell_type": "code",
   "execution_count": 18,
   "metadata": {},
   "outputs": [
    {
     "name": "stdout",
     "output_type": "stream",
     "text": [
      "1.1838775068581504\n",
      "1.157523821602513\n",
      "1.131762815812581\n",
      "1.106580532387153\n",
      "1.0819633936814868\n",
      "1.0578981876770874\n",
      "1.034372054844467\n",
      "1.0113724756595184\n",
      "0.9888872587355527\n",
      "0.9669045295354505\n",
      "0.9454127196296359\n",
      "0.924400556467718\n",
      "0.9038570536333644\n",
      "0.8837715015538244\n",
      "0.8641334586371736\n",
      "0.8449327428119473\n",
      "0.8261594234456263\n",
      "0.8078038136196272\n",
      "0.7898564627401793\n",
      "0.7723081494655444\n",
      "0.7551498749315466\n",
      "0.7383728562582543\n",
      "0.7219685203221211\n",
      "0.7059284977786341\n",
      "0.6902446173216304\n",
      "0.6749089001663399\n",
      "0.6599135547439924\n",
      "0.6452509715966914\n",
      "0.6309137184619237\n",
      "0.6168945355368198\n",
      "0.6031863309128245\n",
      "0.5897821761721391\n",
      "0.5766753021377712\n",
      "0.5638590947695319\n",
      "0.5513270911988762\n",
      "0.5390729758958313\n",
      "0.5270905769617624\n",
      "0.5153738625420357\n",
      "0.5039169373529818\n",
      "0.4927140393180736\n",
      "0.4817595363082506\n",
      "0.4710479229819066\n",
      "0.4605738177201341\n",
      "0.4503319596531017\n",
      "0.44031720577382877\n",
      "0.43052452813558617\n",
      "0.4209490111295596\n",
      "0.41158584883959287\n",
      "0.40243034247080917\n",
      "0.3934778978493794\n",
      "0.38472402299060887\n",
      "0.37616432573279174\n",
      "0.36779451143436154\n",
      "0.359610380732063\n",
      "0.35160782735791246\n",
      "0.343782836012865\n",
      "0.3361314802952183\n",
      "0.3286499206818757\n",
      "0.3213344025606641\n",
      "0.31418125431203403\n",
      "0.3071868854384981\n",
      "0.30034778474026935\n",
      "0.293660518535654\n",
      "0.28712172892477134\n",
      "0.28072813209527303\n",
      "0.2744765166687873\n",
      "0.2683637420868503\n",
      "0.26238673703519577\n",
      "0.2565424979052287\n",
      "0.2508280872916576\n",
      "0.24524063252524153\n",
      "0.23977732423965853\n",
      "0.2344354149715665\n",
      "0.22921221779294\n",
      "0.22410510497480415\n",
      "0.2191115066815367\n",
      "0.2142289096949242\n",
      "0.20945485616719467\n",
      "0.2047869424022702\n",
      "0.2002228176645338\n",
      "0.19576018301438228\n",
      "0.1913967901699316\n",
      "0.18713044039417528\n",
      "0.1829589834070076\n",
      "0.17888031632147983\n",
      "0.17489238260370385\n",
      "0.17099317105583772\n",
      "0.1671807148215917\n",
      "0.16345309041372413\n",
      "0.15980841676301136\n",
      "0.15624485428817123\n",
      "0.15276060398627286\n",
      "0.14935390654313022\n",
      "0.14602304146324918\n",
      "0.14276632621884874\n",
      "0.1395821154175369\n",
      "0.13646879998821695\n",
      "0.13342480638479692\n",
      "0.13044859580731863\n",
      "0.12753866344010242\n"
     ]
    }
   ],
   "source": [
    "weights_learned = backprop(x, w, y, 100, 0.01)"
   ]
  }
 ],
 "metadata": {
  "kernelspec": {
   "display_name": "Python 3",
   "language": "python",
   "name": "python3"
  },
  "language_info": {
   "codemirror_mode": {
    "name": "ipython",
    "version": 3
   },
   "file_extension": ".py",
   "mimetype": "text/x-python",
   "name": "python",
   "nbconvert_exporter": "python",
   "pygments_lexer": "ipython3",
   "version": "3.6.6"
  }
 },
 "nbformat": 4,
 "nbformat_minor": 2
}
